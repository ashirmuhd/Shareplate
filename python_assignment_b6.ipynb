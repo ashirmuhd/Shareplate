{
  "cells": [
    {
      "cell_type": "markdown",
      "metadata": {
        "id": "view-in-github",
        "colab_type": "text"
      },
      "source": [
        "<a href=\"https://colab.research.google.com/github/ashirmuhd/Shareplate/blob/main/python_assignment_b6.ipynb\" target=\"_parent\"><img src=\"https://colab.research.google.com/assets/colab-badge.svg\" alt=\"Open In Colab\"/></a>"
      ]
    },
    {
      "cell_type": "markdown",
      "id": "d2328cad",
      "metadata": {
        "id": "d2328cad"
      },
      "source": [
        "# Python Basics Assignment"
      ]
    },
    {
      "cell_type": "markdown",
      "id": "cb537954",
      "metadata": {
        "id": "cb537954"
      },
      "source": [
        "### Question 1\n",
        "Write a function to compute number of vowels in a string given as input"
      ]
    },
    {
      "cell_type": "code",
      "execution_count": null,
      "id": "cf213ba2",
      "metadata": {
        "colab": {
          "base_uri": "https://localhost:8080/"
        },
        "id": "cf213ba2",
        "outputId": "81a5cf88-4936-4fc1-a2ff-d9251326cebc"
      },
      "outputs": [
        {
          "output_type": "stream",
          "name": "stdout",
          "text": [
            "INPUT YOUR STRING: AEIOUS\n",
            "Number of vowels: 5\n"
          ]
        }
      ],
      "source": [
        "# Your code here\n",
        "def your_function_1(a):\n",
        "    c = 0\n",
        "    v = [\"a\", \"e\", \"i\", \"o\", \"u\"]\n",
        "    for i in a:\n",
        "        if i in v:\n",
        "            c += 1\n",
        "    return c\n",
        "    pass\n",
        "\n",
        "s = input(\"INPUT YOUR STRING: \")\n",
        "l = s.lower()\n",
        "res =  your_function_1(l)\n",
        "print(\"Number of vowels:\", res)\n"
      ]
    },
    {
      "cell_type": "markdown",
      "id": "4eaff430",
      "metadata": {
        "id": "4eaff430"
      },
      "source": [
        "### Question 2\n",
        "Write a function that checks whether a number is prime."
      ]
    },
    {
      "cell_type": "code",
      "execution_count": null,
      "id": "81934cf7",
      "metadata": {
        "colab": {
          "base_uri": "https://localhost:8080/"
        },
        "id": "81934cf7",
        "outputId": "bb0e9963-60fa-4aef-fa38-b3fb6cf17bfc"
      },
      "outputs": [
        {
          "output_type": "stream",
          "name": "stdout",
          "text": [
            "Enter number14\n",
            "Not prime\n"
          ]
        }
      ],
      "source": [
        "# Your code here\n",
        "def your_function_2(n):\n",
        "  if n < 1:\n",
        "    return False\n",
        "  for i in range(2,n-1):\n",
        "    if n % i == 0:\n",
        "      return False\n",
        "  return True\n",
        "  pass\n",
        "\n",
        "\n",
        "num = int(input(\"Enter number:\"))\n",
        "res = your_function_2(num)\n",
        "if res:\n",
        "  print(\"prime number\")\n",
        "else:\n",
        "  print(\"Not prime\")"
      ]
    },
    {
      "cell_type": "markdown",
      "id": "5f061e50",
      "metadata": {
        "id": "5f061e50"
      },
      "source": [
        "### Question 3\n",
        "Write a function to return the maximum of two numbers."
      ]
    },
    {
      "cell_type": "code",
      "execution_count": null,
      "id": "44e2a596",
      "metadata": {
        "colab": {
          "base_uri": "https://localhost:8080/"
        },
        "id": "44e2a596",
        "outputId": "048b3223-9a70-46f2-9bcf-a455896578c3"
      },
      "outputs": [
        {
          "name": "stdout",
          "output_type": "stream",
          "text": [
            "Enter two number:7 10\n"
          ]
        },
        {
          "output_type": "execute_result",
          "data": {
            "text/plain": [
              "10"
            ]
          },
          "metadata": {},
          "execution_count": 32
        }
      ],
      "source": [
        "# Your code here\n",
        "def your_function_3(a):\n",
        "  c,d = list(map(int, a.split()))\n",
        "  return(max(c,d))\n",
        "  pass\n",
        "\n",
        "n = (input(\"Enter two number :\"))\n",
        "your_function_3(n)"
      ]
    },
    {
      "cell_type": "markdown",
      "id": "7513ca91",
      "metadata": {
        "id": "7513ca91"
      },
      "source": [
        "### Question 4\n",
        "Write a function to return the factorial of a number."
      ]
    },
    {
      "cell_type": "code",
      "execution_count": null,
      "id": "6617842f",
      "metadata": {
        "id": "6617842f",
        "colab": {
          "base_uri": "https://localhost:8080/"
        },
        "outputId": "696275ca-3041-483e-d41e-0bc98f1a4fa5"
      },
      "outputs": [
        {
          "output_type": "stream",
          "name": "stdout",
          "text": [
            "Enter  number :3\n",
            "factorial of given number is : 6\n"
          ]
        }
      ],
      "source": [
        "# Your code here\n",
        "def your_function_4(f):\n",
        "  res = 1\n",
        "  for i in range(1,f+1):\n",
        "    res *= i\n",
        "  return res\n",
        "  pass\n",
        "\n",
        "\n",
        "n = (int(input(\"Enter  number :\")))\n",
        "r = your_function_4(n)\n",
        "print(\"factorial of given number is :\",r)"
      ]
    },
    {
      "cell_type": "markdown",
      "id": "9b942098",
      "metadata": {
        "id": "9b942098"
      },
      "source": [
        "### Question 5\n",
        "Write a function to reverse a string without string indexing."
      ]
    },
    {
      "cell_type": "code",
      "execution_count": null,
      "id": "d606b194",
      "metadata": {
        "id": "d606b194",
        "colab": {
          "base_uri": "https://localhost:8080/"
        },
        "outputId": "cdcabbfb-2a21-4101-b509-83c6bc3b1612"
      },
      "outputs": [
        {
          "output_type": "stream",
          "name": "stdout",
          "text": [
            "Enter string:Hi HElo\n",
            "Reversed String is  olEH iH\n"
          ]
        }
      ],
      "source": [
        "# Your code here\n",
        "def your_function_5(str):\n",
        "  rev_str = \"\"\n",
        "  for c in str:\n",
        "    rev_str = c + rev_str\n",
        "  return rev_str\n",
        "  pass\n",
        "\n",
        "\n",
        "n = input(\"Enter string:\")\n",
        "res = your_function_5(n)\n",
        "print(\"Reversed String is: \",res)"
      ]
    },
    {
      "cell_type": "markdown",
      "id": "1abd915b",
      "metadata": {
        "id": "1abd915b"
      },
      "source": [
        "### Question 6\n",
        "Write a function to check if a string is a palindrome."
      ]
    },
    {
      "cell_type": "code",
      "execution_count": null,
      "id": "2b868fb3",
      "metadata": {
        "id": "2b868fb3",
        "colab": {
          "base_uri": "https://localhost:8080/"
        },
        "outputId": "4273b671-0242-4877-d795-75915a81cd85"
      },
      "outputs": [
        {
          "output_type": "stream",
          "name": "stdout",
          "text": [
            "Enter string:MaLaYAlAM\n",
            "String is a palindrome\n"
          ]
        }
      ],
      "source": [
        "# Your code here\n",
        "def your_function_6(r):\n",
        "  rev = your_function_5(r)\n",
        "  if rev == r:\n",
        "    return True\n",
        "  else:\n",
        "    return False\n",
        "  pass\n",
        "\n",
        "n = input(\"Enter string:\")\n",
        "s = n.lower()\n",
        "res = your_function_6(s)\n",
        "if res:\n",
        "  print(\"String is a palindrome\")\n",
        "else:\n",
        "  print(\"String is not\")\n"
      ]
    },
    {
      "cell_type": "markdown",
      "id": "5f2f3791",
      "metadata": {
        "id": "5f2f3791"
      },
      "source": [
        "### Question 7\n",
        "Write a function to count vowels in a string."
      ]
    },
    {
      "cell_type": "code",
      "execution_count": null,
      "id": "73fefa50",
      "metadata": {
        "id": "73fefa50",
        "colab": {
          "base_uri": "https://localhost:8080/"
        },
        "outputId": "14fb2a83-d7bd-4836-ba0a-47f204362805"
      },
      "outputs": [
        {
          "output_type": "stream",
          "name": "stdout",
          "text": [
            "INPUT YOUR STRING: Ashir\n",
            "Number of vowels: 2\n"
          ]
        }
      ],
      "source": [
        "# Your code here\n",
        "def your_function_7(a):\n",
        "    c = 0\n",
        "    v = [\"a\", \"e\", \"i\", \"o\", \"u\"]\n",
        "    for i in a:\n",
        "        if i in v:\n",
        "            c += 1\n",
        "    return c\n",
        "    pass\n",
        "\n",
        "s = input(\"INPUT YOUR STRING: \")\n",
        "l = s.lower()\n",
        "res =  your_function_7(l)\n",
        "print(\"Number of vowels:\", res)"
      ]
    },
    {
      "cell_type": "markdown",
      "id": "0d3a9996",
      "metadata": {
        "id": "0d3a9996"
      },
      "source": [
        "### Question 8\n",
        "Write a function that returns the sum of a list."
      ]
    },
    {
      "cell_type": "code",
      "execution_count": null,
      "id": "ab6afc66",
      "metadata": {
        "id": "ab6afc66",
        "colab": {
          "base_uri": "https://localhost:8080/"
        },
        "outputId": "af8101d9-7afc-47ec-a531-d93744a677c5"
      },
      "outputs": [
        {
          "output_type": "stream",
          "name": "stdout",
          "text": [
            "Enter the list of numbers :1 2 3 4 5\n",
            "sum of numbers is : 15\n"
          ]
        }
      ],
      "source": [
        "# Your code here\n",
        "def your_function_8(a):\n",
        "  return sum(a)\n",
        "  pass\n",
        "\n",
        "n = input(\"Enter the list of numbers :\")\n",
        "r = list(map(int,(n.split())))\n",
        "res = your_function_8(r)\n",
        "print(\"sum of numbers is :\",res)"
      ]
    },
    {
      "cell_type": "markdown",
      "id": "f6682500",
      "metadata": {
        "id": "f6682500"
      },
      "source": [
        "### Question 9\n",
        "Write a function to find the smallest number in a list."
      ]
    },
    {
      "cell_type": "code",
      "execution_count": null,
      "id": "6798a641",
      "metadata": {
        "id": "6798a641",
        "colab": {
          "base_uri": "https://localhost:8080/"
        },
        "outputId": "356730f4-a4d4-4b83-a346-9d5ff3b0e442"
      },
      "outputs": [
        {
          "output_type": "stream",
          "name": "stdout",
          "text": [
            "Enter the list of numbers :-1 -5 1 23\n",
            "Smallest numbers is : -5\n"
          ]
        }
      ],
      "source": [
        "# Your code here\n",
        "def your_function_9(a):\n",
        "  return min(a)\n",
        "  pass\n",
        "\n",
        "n = input(\"Enter the list of numbers :\")\n",
        "r = list(map(int,(n.split())))\n",
        "res = your_function_9(r)\n",
        "print(\"Smallest numbers is :\",res)"
      ]
    },
    {
      "cell_type": "markdown",
      "id": "fb11e683",
      "metadata": {
        "id": "fb11e683"
      },
      "source": [
        "### Question 10\n",
        "Write a function to remove duplicates from a list."
      ]
    },
    {
      "cell_type": "code",
      "execution_count": 123,
      "id": "7c53f88c",
      "metadata": {
        "id": "7c53f88c",
        "colab": {
          "base_uri": "https://localhost:8080/"
        },
        "outputId": "f8513f28-5f12-4d34-a9f9-33dc9b2f2c09"
      },
      "outputs": [
        {
          "name": "stdout",
          "output_type": "stream",
          "text": [
            "Enter the list2 2 3\n"
          ]
        },
        {
          "output_type": "execute_result",
          "data": {
            "text/plain": [
              "[2, 3]"
            ]
          },
          "metadata": {},
          "execution_count": 123
        }
      ],
      "source": [
        "# Your code here\n",
        "def your_function_10(a):\n",
        "\n",
        "    s = set()\n",
        "    r = []\n",
        "    for item in a:\n",
        "        if item not in s:\n",
        "            r.append(item)\n",
        "            s.add(item)\n",
        "    return r\n",
        "\n",
        "\n",
        "\n",
        "n = input(\"Enter the list\")\n",
        "lst = list(map(int, n.split()))\n",
        "your_function_10(lst)"
      ]
    },
    {
      "cell_type": "markdown",
      "id": "9c380a5c",
      "metadata": {
        "id": "9c380a5c"
      },
      "source": [
        "### Question 11\n",
        "Write a function to sort a list in ascending order without using builtin sort function"
      ]
    },
    {
      "cell_type": "code",
      "source": [
        "def your_function_11(lst):\n",
        "  n = len(lst)\n",
        "  for i in range(n):\n",
        "    for j in range(0, n-i-1):\n",
        "      if lst[j] > lst[j+1]:\n",
        "        lst[j], lst[j+1] = lst[j+1], lst[j]\n",
        "  return lst\n",
        "\n",
        "n = input(\"Enter the list\")\n",
        "l = list(map(int, n.split()))\n",
        "your_function_10(l)\n",
        "\n"
      ],
      "metadata": {
        "colab": {
          "base_uri": "https://localhost:8080/"
        },
        "id": "U8RDJazToeEK",
        "outputId": "7ba398b7-18b6-493e-ffa0-3f0b146029f4"
      },
      "id": "U8RDJazToeEK",
      "execution_count": 124,
      "outputs": [
        {
          "name": "stdout",
          "output_type": "stream",
          "text": [
            "Enter the list10 90 2 1 3 55\n"
          ]
        },
        {
          "output_type": "execute_result",
          "data": {
            "text/plain": [
              "[10, 90, 2, 1, 3, 55]"
            ]
          },
          "metadata": {},
          "execution_count": 124
        }
      ]
    },
    {
      "cell_type": "markdown",
      "id": "1270c91c",
      "metadata": {
        "id": "1270c91c"
      },
      "source": [
        "### Question 12\n",
        "Write a function that returns the length of a string."
      ]
    },
    {
      "cell_type": "code",
      "execution_count": 82,
      "id": "87f35472",
      "metadata": {
        "id": "87f35472",
        "colab": {
          "base_uri": "https://localhost:8080/"
        },
        "outputId": "024e14a2-e6ee-40b0-af2c-ccaf7f39e6b7"
      },
      "outputs": [
        {
          "output_type": "stream",
          "name": "stdout",
          "text": [
            "Enter the string:amma\n",
            "Length of stirng is : 4\n"
          ]
        }
      ],
      "source": [
        "# Your code here\n",
        "def your_function_12(a):\n",
        "  l = 0\n",
        "  for i in a:\n",
        "    l += 1\n",
        "  return l\n",
        "  pass\n",
        "\n",
        "n = input(\"Enter the string:\")\n",
        "res = your_function_12(n)\n",
        "print(\"Length of stirng is :\",res)"
      ]
    },
    {
      "cell_type": "markdown",
      "id": "9a8e3d28",
      "metadata": {
        "id": "9a8e3d28"
      },
      "source": [
        "### Question 13\n",
        "Write a function to count words in a sentence."
      ]
    },
    {
      "cell_type": "code",
      "execution_count": 125,
      "id": "e6f996ef",
      "metadata": {
        "id": "e6f996ef",
        "colab": {
          "base_uri": "https://localhost:8080/"
        },
        "outputId": "4e7e90cc-9572-436b-9d4e-2e0f687c663e"
      },
      "outputs": [
        {
          "output_type": "stream",
          "name": "stdout",
          "text": [
            "Enter a sentence: aa bbb ashur\n",
            "Number of words: 3\n"
          ]
        }
      ],
      "source": [
        "# Your code here\n",
        "def your_function_13(sentence):\n",
        "  words = sentence.split()\n",
        "  return len(words)\n",
        "  pass\n",
        "\n",
        "s = input(\"Enter a sentence: \")\n",
        "w = your_function_13(s)\n",
        "print(\"Number of words:\", w)\n"
      ]
    },
    {
      "cell_type": "markdown",
      "id": "430c2e4a",
      "metadata": {
        "id": "430c2e4a"
      },
      "source": [
        "### Question 14\n",
        "Write a function to convert Celsius to Fahrenheit."
      ]
    },
    {
      "cell_type": "code",
      "execution_count": 127,
      "id": "b710b0bd",
      "metadata": {
        "id": "b710b0bd",
        "colab": {
          "base_uri": "https://localhost:8080/"
        },
        "outputId": "d4ec4adc-c637-4ab7-e82e-1662fcfe4da0"
      },
      "outputs": [
        {
          "output_type": "stream",
          "name": "stdout",
          "text": [
            "Enter the celcius:32\n",
            "Farenheit is : 89.6\n"
          ]
        }
      ],
      "source": [
        "# Your code here\n",
        "def your_function_14(c):\n",
        "  f = (c * 9/5) + 32\n",
        "  return f\n",
        "  pass\n",
        "\n",
        "n = float(input(\"Enter the celcius:\"))\n",
        "res = your_function_14(n)\n",
        "print(\"Farenheit is :\",res)"
      ]
    },
    {
      "cell_type": "markdown",
      "id": "acefe5e3",
      "metadata": {
        "id": "acefe5e3"
      },
      "source": [
        "### Question 15\n",
        "Write a function to check if a number is palindrome."
      ]
    },
    {
      "cell_type": "code",
      "execution_count": 131,
      "id": "b700abae",
      "metadata": {
        "id": "b700abae",
        "colab": {
          "base_uri": "https://localhost:8080/"
        },
        "outputId": "1b434ae6-7b7c-40c2-e84e-a59c8c4664e2"
      },
      "outputs": [
        {
          "output_type": "stream",
          "name": "stdout",
          "text": [
            "enter the number1222\n",
            "Number is not a palindrome\n"
          ]
        }
      ],
      "source": [
        "# Your code here\n",
        "def your_function_15(num):\n",
        "  ns = str(num)\n",
        "  a = ns[::-1]\n",
        "  if ns == a:\n",
        "    return True\n",
        "  else:\n",
        "    return False\n",
        "\n",
        "n = int(input(\"enter the number\"))\n",
        "res = your_function_15(n)\n",
        "if res:\n",
        "  print(\"Number is palindrome\")\n",
        "else:\n",
        "  print(\"Number is not a palindrome\")"
      ]
    },
    {
      "cell_type": "markdown",
      "id": "b63452cb",
      "metadata": {
        "id": "b63452cb"
      },
      "source": [
        "### Question 16\n",
        "Write a function to return all even numbers in a list."
      ]
    },
    {
      "cell_type": "code",
      "source": [
        "# Your code here\n",
        "def your_function_16(num):\n",
        "  even = []\n",
        "  for n in num :\n",
        "    if n % 2 == 0:\n",
        "      even.append(n)\n",
        "  return even\n",
        "\n",
        "  pass\n",
        "\n",
        "d = (input(\"Enter the list of numbers:\"))\n",
        "e = list(map(int,d.split()))\n",
        "res = your_function_16(e)\n",
        "print(res)"
      ],
      "metadata": {
        "colab": {
          "base_uri": "https://localhost:8080/"
        },
        "id": "Dnwm1HkNgOkH",
        "outputId": "843a9354-cf3a-4ccf-d6d8-b52bb6d9c6bf"
      },
      "id": "Dnwm1HkNgOkH",
      "execution_count": 99,
      "outputs": [
        {
          "output_type": "stream",
          "name": "stdout",
          "text": [
            "Enter the list of numbers:1 2 3 4 5 5 6 7 22 \n",
            "[2, 4, 6, 22]\n"
          ]
        }
      ]
    },
    {
      "cell_type": "markdown",
      "id": "aca524d9",
      "metadata": {
        "id": "aca524d9"
      },
      "source": [
        "### Question 17\n",
        "Write a function to return the nth Fibonacci number."
      ]
    },
    {
      "cell_type": "code",
      "execution_count": 134,
      "id": "97dc4e87",
      "metadata": {
        "id": "97dc4e87",
        "colab": {
          "base_uri": "https://localhost:8080/"
        },
        "outputId": "5bd89619-db70-4ef0-f745-3759fbb9f898"
      },
      "outputs": [
        {
          "output_type": "stream",
          "name": "stdout",
          "text": [
            "Enter the value of n for the nth Fibonacci number: 22\n",
            "Fibonacci number 17711\n"
          ]
        }
      ],
      "source": [
        "\n",
        "\n",
        "def your_function_17(n):\n",
        "  if n <= 1:\n",
        "    return n\n",
        "  else:\n",
        "    return your_function_17(n-1) + your_function_17(n-2)\n",
        "  pass\n",
        "\n",
        "num = int(input(\"Enter the value of n for the nth Fibonacci number: \"))\n",
        "result = your_function_17(num)\n",
        "print(\"Fibonacci number\",result)"
      ]
    },
    {
      "cell_type": "markdown",
      "id": "29c847dc",
      "metadata": {
        "id": "29c847dc"
      },
      "source": [
        "### Question 18\n",
        "Write a function to calculate the average of a list."
      ]
    },
    {
      "cell_type": "code",
      "execution_count": 104,
      "id": "9adc9fd2",
      "metadata": {
        "id": "9adc9fd2",
        "colab": {
          "base_uri": "https://localhost:8080/"
        },
        "outputId": "c6c4b780-d95d-48e9-9cd6-1a6eca8f5227"
      },
      "outputs": [
        {
          "output_type": "stream",
          "name": "stdout",
          "text": [
            "Enter the list of numbers:1 2 3 4 5 \n",
            "3.0\n"
          ]
        }
      ],
      "source": [
        "# Your code here\n",
        "def your_function_18(a):\n",
        "  s = sum(a)\n",
        "  r = s / len(a)\n",
        "  return r\n",
        "  pass\n",
        "\n",
        "\n",
        "d = (input(\"Enter the list of numbers:\"))\n",
        "e = list(map(int,d.split()))\n",
        "res = your_function_18(e)\n",
        "print(res)\n"
      ]
    },
    {
      "cell_type": "markdown",
      "id": "420240fb",
      "metadata": {
        "id": "420240fb"
      },
      "source": [
        "### Question 19\n",
        "Write a function that returns a dictionary of character counts."
      ]
    },
    {
      "cell_type": "code",
      "execution_count": 116,
      "id": "95cafc54",
      "metadata": {
        "id": "95cafc54",
        "colab": {
          "base_uri": "https://localhost:8080/"
        },
        "outputId": "568e7ee1-2b13-41d2-9868-92f9ace0d0ee"
      },
      "outputs": [
        {
          "output_type": "stream",
          "name": "stdout",
          "text": [
            "Enter the string:ddef\n",
            "{'d': 2, 'e': 1, 'f': 1}\n"
          ]
        }
      ],
      "source": [
        "# Your code here\n",
        "def your_function_19(a):\n",
        "  dict = {}\n",
        "  for char in a:\n",
        "    if char in dict:\n",
        "      dict[char] += 1\n",
        "    else:\n",
        "      dict[char] = 1\n",
        "  return dict\n",
        "\n",
        "\n",
        "d = (input(\"Enter the string:\"))\n",
        "res = your_function_19(d)\n",
        "print(res)"
      ]
    },
    {
      "cell_type": "markdown",
      "id": "17629a07",
      "metadata": {
        "id": "17629a07"
      },
      "source": [
        "### Question 20\n",
        "Write a function that returns True if all list elements are unique."
      ]
    },
    {
      "cell_type": "code",
      "execution_count": 136,
      "id": "fe4f8820",
      "metadata": {
        "id": "fe4f8820",
        "colab": {
          "base_uri": "https://localhost:8080/"
        },
        "outputId": "0547f61c-5a72-4a11-9aa4-02baa873940d"
      },
      "outputs": [
        {
          "output_type": "execute_result",
          "data": {
            "text/plain": [
              "False"
            ]
          },
          "metadata": {},
          "execution_count": 136
        }
      ],
      "source": [
        "def your_function_20(list):\n",
        "  return len(list) == len(set(list))\n",
        "\n",
        "d = [1,2,1]\n",
        "your_function_20(d)"
      ]
    },
    {
      "cell_type": "markdown",
      "id": "91dc87b9",
      "metadata": {
        "id": "91dc87b9"
      },
      "source": [
        "### Question 21\n",
        "Write a function that returns dot product of two list of numbers"
      ]
    },
    {
      "cell_type": "code",
      "execution_count": 137,
      "id": "87c3fa4b",
      "metadata": {
        "id": "87c3fa4b"
      },
      "outputs": [],
      "source": [
        "\n",
        "def your_function_21(a, b):\n",
        "  if len(a) != len(b):\n",
        "    return \"Lists  have same length\"\n",
        "  dot_product = 0\n",
        "  for i in range(len(a)):\n",
        "    dot_product += a[i] * b[i]\n",
        "  return dot_product"
      ]
    },
    {
      "cell_type": "markdown",
      "id": "5eeb0527",
      "metadata": {
        "id": "5eeb0527"
      },
      "source": [
        "### Question 22\n",
        "Write a function that returns the projection of vector a onto vector b. Both a and b are given as list of numbers"
      ]
    },
    {
      "cell_type": "code",
      "source": [
        "def your_function_22(a, b):\n",
        "\n",
        "  dot_product_ab = 0\n",
        "  for i in range(len(a)):\n",
        "    dot_product_ab += a[i] * b[i]\n",
        "\n",
        "\n",
        "  magnitude_b_squared = 0\n",
        "  for i in range(len(b)):\n",
        "    magnitude_b_squared += b[i] * b[i]\n",
        "\n",
        "\n",
        "  if magnitude_b_squared == 0:\n",
        "    return \"Cannot project onto a zero vector.\"\n",
        "\n",
        "\n",
        "  scalar_projection = dot_product_ab / magnitude_b_squared\n",
        "\n",
        "\n",
        "  projection = []\n",
        "  for i in range(len(b)):\n",
        "    projection.append(scalar_projection * b[i])\n",
        "\n",
        "  return projection"
      ],
      "metadata": {
        "id": "N0s3XPC5u700"
      },
      "id": "N0s3XPC5u700",
      "execution_count": 138,
      "outputs": []
    },
    {
      "cell_type": "markdown",
      "id": "1410b385",
      "metadata": {
        "id": "1410b385"
      },
      "source": [
        "### Question 23\n",
        "Write a function to return common elements between two lists."
      ]
    },
    {
      "cell_type": "code",
      "source": [
        "\n",
        "\n",
        "def your_function_23(a, b):\n",
        "\n",
        "  return list(set(a) & set(b))\n",
        "\n",
        "\n",
        "a1 = [1, 2, 3, 4, 5]\n",
        "b1 = [4, 5, 6, 7, 8]\n",
        "e = your_function_23(a1, b1)\n",
        "print(\"Common elements:\", e)\n"
      ],
      "metadata": {
        "colab": {
          "base_uri": "https://localhost:8080/"
        },
        "id": "phMhaI8GvYd2",
        "outputId": "e8e76635-34ae-4c67-90dc-13249958d0f1"
      },
      "id": "phMhaI8GvYd2",
      "execution_count": 139,
      "outputs": [
        {
          "output_type": "stream",
          "name": "stdout",
          "text": [
            "Common elements: [4, 5]\n"
          ]
        }
      ]
    },
    {
      "cell_type": "markdown",
      "id": "23ab5210",
      "metadata": {
        "id": "23ab5210"
      },
      "source": [
        "### Question 24\n",
        "Create a class Vector that supports addition, dot product, and magnitude."
      ]
    },
    {
      "cell_type": "code",
      "execution_count": null,
      "id": "f6b18fd7",
      "metadata": {
        "id": "f6b18fd7"
      },
      "outputs": [],
      "source": [
        "\n",
        "\n",
        "import math\n",
        "\n",
        "class Vector:\n",
        "  def __init__(self, components):\n",
        "    self.components = components\n",
        "\n",
        "  def __add__(self, other):\n",
        "    if len(self.components) != len(other.components):\n",
        "      raise ValueError(\"Vectors must have the same dimension for addition.\")\n",
        "    return Vector([self.components[i] + other.components[i] for i in range(len(self.components))])\n",
        "\n",
        "  def dot(self, other):\n",
        "    if len(self.components) != len(other.components):\n",
        "      raise ValueError(\"Vectors must have the same dimension for dot product.\")\n",
        "    return sum(self.components[i] * other.components[i] for i in range(len(self.components)))\n",
        "\n",
        "  def magnitude(self):\n",
        "    return math.sqrt(sum(c**2 for c in self.components))"
      ]
    },
    {
      "cell_type": "markdown",
      "id": "a0621aba",
      "metadata": {
        "id": "a0621aba"
      },
      "source": [
        "### Question 25\n",
        "Implement a function to return all outliers in a list based on the IQR method."
      ]
    },
    {
      "cell_type": "code",
      "source": [
        "\n",
        "\n",
        "my_list = [1, 2, 3, 4, 5, 6, 7, 8, 9, 10, 100]\n",
        "\n",
        "sorted_list = sorted(my_list)\n",
        "n = len(sorted_list)\n",
        "\n",
        "\n",
        "if n % 2 == 1:\n",
        "    q1_index = (n + 1) // 4 - 1\n",
        "    q1 = sorted_list[q1_index]\n",
        "else:\n",
        "    q1_index_lower = n // 4 - 1\n",
        "    q1_index_upper = n // 4\n",
        "    q1 = (sorted_list[q1_index_lower] + sorted_list[q1_index_upper]) / 2\n",
        "\n",
        "if n % 2 == 1:\n",
        "    q3_index = 3 * (n + 1) // 4 - 1\n",
        "    q3 = sorted_list[q3_index]\n",
        "else:\n",
        "    q3_index_lower = 3 * n // 4 - 1\n",
        "    q3_index_upper = 3 * n // 4\n",
        "    q3 = (sorted_list[q3_index_lower] + sorted_list[q3_index_upper]) / 2\n",
        "\n",
        "\n",
        "iqr = q3 - q1\n",
        "\n",
        "\n",
        "lower_bound = q1 - 1.5 * iqr\n",
        "upper_bound = q3 + 1.5 * iqr\n",
        "\n",
        "\n",
        "outliers = []\n",
        "for x in my_list:\n",
        "    if x < lower_bound or x > upper_bound:\n",
        "        outliers.append(x)\n",
        "\n",
        "outliers"
      ],
      "metadata": {
        "colab": {
          "base_uri": "https://localhost:8080/"
        },
        "id": "xQb72JVBxLOS",
        "outputId": "26e382c3-1bd4-4034-85dc-5d54b897296e"
      },
      "id": "xQb72JVBxLOS",
      "execution_count": 144,
      "outputs": [
        {
          "output_type": "execute_result",
          "data": {
            "text/plain": [
              "[100]"
            ]
          },
          "metadata": {},
          "execution_count": 144
        }
      ]
    },
    {
      "cell_type": "markdown",
      "id": "f0be510e",
      "metadata": {
        "id": "f0be510e"
      },
      "source": [
        "### Question 26\n",
        "Function with default arguments:\n",
        "Create a function to compute variance with an option to use sample or population formula"
      ]
    },
    {
      "cell_type": "code",
      "execution_count": 145,
      "id": "941d732d",
      "metadata": {
        "id": "941d732d"
      },
      "outputs": [],
      "source": [
        "\n",
        "\n",
        "def your_function_26(data, sample=True):\n",
        "\n",
        "\n",
        "  n = len(data)\n",
        "  if n < 2 and sample:\n",
        "    return 0\n",
        "\n",
        "  mean = sum(data) / n\n",
        "  squared_diffs = [(x - mean) ** 2 for x in data]\n",
        "\n",
        "  if sample:\n",
        "    return sum(squared_diffs) / (n - 1)\n",
        "  else:\n",
        "    return sum(squared_diffs) / n"
      ]
    },
    {
      "cell_type": "markdown",
      "id": "c39be0f1",
      "metadata": {
        "id": "c39be0f1"
      },
      "source": [
        "### Question 27\n",
        "Create a list of squares of even numbers between 1 and 20 using list comprehension."
      ]
    },
    {
      "cell_type": "code",
      "execution_count": 147,
      "id": "9e4ba74a",
      "metadata": {
        "id": "9e4ba74a",
        "colab": {
          "base_uri": "https://localhost:8080/"
        },
        "outputId": "63e34fdd-9aa5-4350-9a72-b45c2f269a9b"
      },
      "outputs": [
        {
          "output_type": "execute_result",
          "data": {
            "text/plain": [
              "[4, 16, 36, 64, 100, 144, 196, 256, 324, 400]"
            ]
          },
          "metadata": {},
          "execution_count": 147
        }
      ],
      "source": [
        "\n",
        "\n",
        "squares_of_even_numbers = [x**2 for x in range(2, 21, 2)]\n",
        "squares_of_even_numbers"
      ]
    },
    {
      "cell_type": "markdown",
      "id": "b43c266d",
      "metadata": {
        "id": "b43c266d"
      },
      "source": [
        "### Question 28\n",
        "Write a function that returns the L1 and L2 norms of a vector given as list"
      ]
    },
    {
      "cell_type": "code",
      "execution_count": 148,
      "id": "4f5dc876",
      "metadata": {
        "id": "4f5dc876"
      },
      "outputs": [],
      "source": [
        "\n",
        "\n",
        "def your_function_28(vector):\n",
        "  l1_norm = sum(abs(x) for x in vector)\n",
        "  l2_norm = math.sqrt(sum(x**2 for x in vector))\n",
        "  return l1_norm, l2_norm"
      ]
    },
    {
      "cell_type": "markdown",
      "id": "2007915f",
      "metadata": {
        "id": "2007915f"
      },
      "source": [
        "### Question 29\n",
        "Write a function that computes the 95% confidence interval for the mean of a list of numbers assuming normal distribution."
      ]
    },
    {
      "cell_type": "code",
      "execution_count": 149,
      "id": "8634dc63",
      "metadata": {
        "id": "8634dc63"
      },
      "outputs": [],
      "source": [
        "\n",
        "\n",
        "def your_function_29(data):\n",
        "    n = len(data)\n",
        "\n",
        "\n",
        "    mean = sum(data) / n\n",
        "\n",
        "    sum_sq_diffs = 0\n",
        "    for x in data:\n",
        "        sum_sq_diffs += (x - mean) ** 2\n",
        "\n",
        "\n",
        "    if n - 1 == 0:\n",
        "        std_dev = 0\n",
        "    else:\n",
        "        std_dev = (sum_sq_diffs / (n - 1)) ** 0.5\n",
        "\n",
        "    r\n",
        "    if n == 0:\n",
        "        std_error = 0\n",
        "    else:\n",
        "        std_error = std_dev / (n ** 0.5)\n",
        "\n",
        "\n",
        "    margin_of_error = 1.96 * std_error\n",
        "\n",
        "\n",
        "    lower_bound = mean - margin_of_error\n",
        "    upper_bound = mean + margin_of_error\n",
        "\n",
        "    return (lower_bound, upper_bound)"
      ]
    },
    {
      "cell_type": "markdown",
      "id": "08df3afb",
      "metadata": {
        "id": "08df3afb"
      },
      "source": [
        "### Question 30\n",
        "Given a list of categorical values, create a frequency distribution dictionary."
      ]
    },
    {
      "cell_type": "code",
      "execution_count": 143,
      "id": "c9b88531",
      "metadata": {
        "id": "c9b88531",
        "colab": {
          "base_uri": "https://localhost:8080/"
        },
        "outputId": "d1bea59e-8134-4b0e-e5e8-0f2824f44ec6"
      },
      "outputs": [
        {
          "output_type": "stream",
          "name": "stdout",
          "text": [
            "{'apple': 3, 'banana': 2, 'orange': 1}\n"
          ]
        }
      ],
      "source": [
        "def your_function_30(list):\n",
        "    frequency_dict = {}\n",
        "    for item in list:\n",
        "        frequency_dict[item] = frequency_dict.get(item, 0) + 1\n",
        "    return frequency_dict\n",
        "\n",
        "\n",
        "my_list = ['apple', 'banana', 'apple', 'orange', 'banana', 'apple']\n",
        "frequency = your_function_30(my_list)\n",
        "print(frequency)"
      ]
    }
  ],
  "metadata": {
    "language_info": {
      "name": "python"
    },
    "colab": {
      "provenance": [],
      "include_colab_link": true
    },
    "kernelspec": {
      "name": "python3",
      "display_name": "Python 3"
    }
  },
  "nbformat": 4,
  "nbformat_minor": 5
}