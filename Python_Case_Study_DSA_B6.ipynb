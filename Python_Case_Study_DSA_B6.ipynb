{
  "nbformat": 4,
  "nbformat_minor": 0,
  "metadata": {
    "colab": {
      "provenance": [],
      "include_colab_link": true
    },
    "kernelspec": {
      "name": "python3",
      "display_name": "Python 3"
    },
    "language_info": {
      "name": "python"
    }
  },
  "cells": [
    {
      "cell_type": "markdown",
      "metadata": {
        "id": "view-in-github",
        "colab_type": "text"
      },
      "source": [
        "<a href=\"https://colab.research.google.com/github/ashirmuhd/Shareplate/blob/main/Python_Case_Study_DSA_B6.ipynb\" target=\"_parent\"><img src=\"https://colab.research.google.com/assets/colab-badge.svg\" alt=\"Open In Colab\"/></a>"
      ]
    },
    {
      "cell_type": "markdown",
      "source": [
        "# Answer the following questions using only builtin Python datatypes and functions. Do not use Numpy or Scipy (i.e. No library imports allowed)"
      ],
      "metadata": {
        "id": "zVV_KMSIUG-A"
      }
    },
    {
      "cell_type": "markdown",
      "source": [
        "# Q1. Write a function that return the range (maximum and minimun) of a given list of numbers"
      ],
      "metadata": {
        "id": "uZnK7VgWV5SI"
      }
    },
    {
      "cell_type": "code",
      "source": [
        "def max_min(a):\n",
        "  return(max(a),min(a))\n",
        "\n",
        "\n",
        "c = input(\"Enter the numbers:\")\n",
        "n = list(map(int, c.split()))\n",
        "d = max_min(n)\n",
        "print(\"MAX,MIN :\",d)"
      ],
      "metadata": {
        "id": "vuAbJQcOWAM7",
        "colab": {
          "base_uri": "https://localhost:8080/"
        },
        "outputId": "f845758b-06e8-40a4-c806-2e10910c1f4d"
      },
      "execution_count": null,
      "outputs": [
        {
          "output_type": "stream",
          "name": "stdout",
          "text": [
            "Enter the numbers:1 2 -9 0 7\n",
            "MAX,MIN : (7, -9)\n"
          ]
        }
      ]
    },
    {
      "cell_type": "markdown",
      "source": [
        "## Q2. Write function that returns mean value of a list of numbers"
      ],
      "metadata": {
        "id": "Y5_v5a8_U1O-"
      }
    },
    {
      "cell_type": "code",
      "source": [
        "def mean(num):\n",
        "\n",
        "  c = sum(num) / len(num)\n",
        "  return c\n",
        "\n",
        "\n",
        "d = input(\"Enter the numbers:\")\n",
        "n = list(map(int, d.split()))\n",
        "r = mean(n)\n",
        "print(\"Mean is :\",r)\n",
        "\n"
      ],
      "metadata": {
        "id": "RajjEyacU7Sc",
        "colab": {
          "base_uri": "https://localhost:8080/"
        },
        "outputId": "7ca27ac5-d5de-43be-b3eb-5ca0c1a57d63"
      },
      "execution_count": null,
      "outputs": [
        {
          "output_type": "stream",
          "name": "stdout",
          "text": [
            "Enter the numbers:100 50 60\n",
            "Mean is : 70.0\n"
          ]
        }
      ]
    },
    {
      "cell_type": "markdown",
      "source": [
        "# Q3. Write a function that returns the median value of a list of numbers"
      ],
      "metadata": {
        "id": "OpeRxoEoVTIP"
      }
    },
    {
      "cell_type": "code",
      "source": [
        "\n",
        "def median(a):\n",
        "  b = sorted(a)\n",
        "  c = len(a)\n",
        "  if c % 2 == 0:\n",
        "     return ((b[int(c/2)-1]+b[int(c/2)]) / 2 )\n",
        "  else:\n",
        "     return (b[int(c/2)])\n",
        "\n",
        "\n",
        "\n",
        "\n",
        "\n",
        "d = input(\"Enter the numbers:\")\n",
        "n = list(map(int, d.split()))\n",
        "r = median(n)\n",
        "print(\"Median is:\",r)\n",
        "\n",
        "\n",
        "\n",
        "\n"
      ],
      "metadata": {
        "id": "u1CUy0UOVaQi",
        "colab": {
          "base_uri": "https://localhost:8080/"
        },
        "outputId": "5d836c25-d006-448c-8cae-501d471a7bff"
      },
      "execution_count": null,
      "outputs": [
        {
          "output_type": "stream",
          "name": "stdout",
          "text": [
            "Enter the numbers:-99 33 21 0 98\n",
            "Median is: 21\n"
          ]
        }
      ]
    },
    {
      "cell_type": "markdown",
      "source": [
        "## Q4. Write a function to return the mod of a list of numbers, if no mod exists, it should return None. If more than one mod exist, return the mod values as list"
      ],
      "metadata": {
        "id": "2EMOG7AZSqVn"
      }
    },
    {
      "cell_type": "code",
      "execution_count": null,
      "metadata": {
        "id": "qnMm2dhhSk3-",
        "colab": {
          "base_uri": "https://localhost:8080/"
        },
        "outputId": "6a25f9c5-170c-426f-e50c-21029c3b9f0d"
      },
      "outputs": [
        {
          "output_type": "stream",
          "name": "stdout",
          "text": [
            "Enter the numbers:1 2 3 4 4 \n",
            "Mode is: 4\n"
          ]
        }
      ],
      "source": [
        "def mode(numbers):\n",
        "  counts = {}\n",
        "  for number in numbers:\n",
        "    counts[number] = counts.get(number, 0) + 1\n",
        "\n",
        "  max_count = 0\n",
        "  for count in counts.values():\n",
        "    if count > max_count:\n",
        "      max_count = count\n",
        "\n",
        "  modes = []\n",
        "  for number, count in counts.items():\n",
        "    if count == max_count and max_count > 1:\n",
        "      modes.append(number)\n",
        "\n",
        "  if not modes:\n",
        "    return None\n",
        "  elif len(modes) == 1:\n",
        "    return modes[0]\n",
        "  else:\n",
        "    return modes\n",
        "\n",
        "\n",
        "d = input(\"Enter the numbers:\")\n",
        "n = list(map(int, d.split()))\n",
        "r = mode(n)\n",
        "print(\"Mode is:\", r)"
      ]
    },
    {
      "cell_type": "markdown",
      "source": [
        "## Q5. Write function to compute a given percentile value (e.g. 90th percentile) of a list of numbers"
      ],
      "metadata": {
        "id": "LcqWwqtgTCiL"
      }
    },
    {
      "cell_type": "code",
      "source": [
        "def percentile(data, percent):\n",
        "  s = sorted(data)\n",
        "  n = len(s)\n",
        "  rank = (percent / 100) * (n - 1) + 1\n",
        "\n",
        "  if rank % 1 == 0:\n",
        "    return s[int(rank) - 1]\n",
        "  else:\n",
        "    lower_rank = int(rank)\n",
        "    upper_rank = lower_rank + 1\n",
        "    lower_value = s[lower_rank - 1]\n",
        "    upper_value = s[upper_rank - 1]\n",
        "    return lower_value + (rank - lower_rank) * (upper_value - lower_value)\n",
        "\n",
        "d = input(\"Enter the numbers :\")\n",
        "n = list(map(int, d.split()))\n",
        "percent_val = int(input(\"Enter the percentile:\"))\n",
        "result = percentile(n, percent_val)\n",
        "print(\" percentile is:\",result)"
      ],
      "metadata": {
        "id": "Sn307h0TTb2b",
        "colab": {
          "base_uri": "https://localhost:8080/"
        },
        "outputId": "b97265a1-2ac8-4825-d52f-ab331f7607df"
      },
      "execution_count": null,
      "outputs": [
        {
          "output_type": "stream",
          "name": "stdout",
          "text": [
            "Enter the numbers :1 2 3 \n",
            "Enter the percentile:26\n",
            " percentile is: 1.52\n"
          ]
        }
      ]
    },
    {
      "cell_type": "markdown",
      "source": [
        "# Q6. Write a function that returns the lower bound of a list of numbers"
      ],
      "metadata": {
        "id": "N-TYHkDcWOfS"
      }
    },
    {
      "cell_type": "code",
      "source": [],
      "metadata": {
        "id": "zCdQUs-t88nz"
      },
      "execution_count": null,
      "outputs": []
    },
    {
      "cell_type": "code",
      "source": [
        "def lower_bound_quartile(data):\n",
        "\n",
        "\n",
        "  sorted_data = sorted(data)\n",
        "  n = len(sorted_data)\n",
        "\n",
        "  q1_rank = 0.25 * (n - 1) + 1\n",
        "  if q1_rank % 1 == 0:\n",
        "    q1 = sorted_data[int(q1_rank) - 1]\n",
        "  else:\n",
        "    lower_rank = int(q1_rank)\n",
        "    upper_rank = lower_rank + 1\n",
        "    lower_value = sorted_data[lower_rank - 1]\n",
        "    upper_value = sorted_data[upper_rank - 1]\n",
        "    q1 = lower_value + (q1_rank - lower_rank) * (upper_value - lower_value)\n",
        "\n",
        "\n",
        "  q3_rank = 0.75 * (n - 1) + 1\n",
        "  if q3_rank % 1 == 0:\n",
        "    q3 = sorted_data[int(q3_rank) - 1]\n",
        "  else:\n",
        "    lower_rank = int(q3_rank)\n",
        "    upper_rank = lower_rank + 1\n",
        "    lower_value = sorted_data[lower_rank - 1]\n",
        "    upper_value = sorted_data[upper_rank - 1]\n",
        "    q3 = lower_value + (q3_rank - lower_rank) * (upper_value - lower_value)\n",
        "\n",
        "\n",
        "  iqr = q3 - q1\n",
        "\n",
        "\n",
        "  lower_bound = q1 - 1.5 * iqr\n",
        "\n",
        "  return lower_bound\n",
        "\n",
        "\n",
        "d = input(\"Enter the numbers :\")\n",
        "n = list(map(int, d.split()))\n",
        "result = lower_bound_quartile(n)\n",
        "print(\"Lower bound :\", result)\n"
      ],
      "metadata": {
        "id": "Y-RKPdKuW5nx",
        "colab": {
          "base_uri": "https://localhost:8080/"
        },
        "outputId": "55b03ce3-baff-4e37-b199-be94bf7e9125"
      },
      "execution_count": null,
      "outputs": [
        {
          "output_type": "stream",
          "name": "stdout",
          "text": [
            "Enter the numbers :1 2 3 4 5\n",
            "Lower bound (quartile method): -1.0\n"
          ]
        }
      ]
    },
    {
      "cell_type": "markdown",
      "source": [
        "## Q7. Write function to return any outliers from a given list of numbers, if no outliers present it should return None"
      ],
      "metadata": {
        "id": "5aHfaI_jThpX"
      }
    },
    {
      "cell_type": "code",
      "source": [
        "def find_outliers(data):\n",
        "  sorted_data = sorted(data)\n",
        "  n = len(sorted_data)\n",
        "\n",
        "\n",
        "  q1_rank = 0.25 * (n - 1) + 1\n",
        "  if q1_rank % 1 == 0:\n",
        "    q1 = sorted_data[int(q1_rank) - 1]\n",
        "  else:\n",
        "    lower_rank = int(q1_rank)\n",
        "    upper_rank = lower_rank + 1\n",
        "    lower_value = sorted_data[lower_rank - 1]\n",
        "    upper_value = sorted_data[upper_rank - 1]\n",
        "    q1 = lower_value + (q1_rank - lower_rank) * (upper_value - lower_value)\n",
        "    q3_rank = 0.75 * (n - 1) + 1\n",
        "\n",
        "  if q3_rank % 1 == 0:\n",
        "    q3 = sorted_data[int(q3_rank) - 1]\n",
        "  else:\n",
        "    lower_rank = int(q3_rank)\n",
        "    upper_rank = lower_rank + 1\n",
        "    lower_value = sorted_data[lower_rank - 1]\n",
        "    upper_value = sorted_data[upper_rank - 1]\n",
        "    q3 = lower_value + (q3_rank - lower_rank) * (upper_value - lower_value)\n",
        "\n",
        "\n",
        "  iqr = q3 - q1\n",
        "\n",
        "\n",
        "  lower_bound = q1 - 1.5 * iqr\n",
        "  upper_bound = q3 + 1.5 * iqr\n",
        "\n",
        "  outliers = []\n",
        "  for number in data:\n",
        "    if number < lower_bound or number > upper_bound:\n",
        "      outliers.append(number)\n",
        "\n",
        "  if not outliers:\n",
        "    return None\n",
        "  else:\n",
        "    return outliers\n",
        "\n",
        "d = input(\"Enter the numbers :\")\n",
        "n = list(map(int, d.split()))\n",
        "result = find_outliers(n)\n",
        "print(\"Outliers :\", result)"
      ],
      "metadata": {
        "id": "gG6-qzT7T0Si",
        "colab": {
          "base_uri": "https://localhost:8080/"
        },
        "outputId": "b5b20fc4-f9d5-4ff6-ff01-3657a92a89d6"
      },
      "execution_count": null,
      "outputs": [
        {
          "output_type": "stream",
          "name": "stdout",
          "text": [
            "Enter the numbers :11 22 33\n",
            "Outliers : None\n"
          ]
        }
      ]
    },
    {
      "cell_type": "markdown",
      "source": [
        "##Q8. Write a function to return standard deviation of a list of numbers"
      ],
      "metadata": {
        "id": "jI9t-tcDT5EK"
      }
    },
    {
      "cell_type": "code",
      "source": [
        "def sd(a):\n",
        "    b = sum(a) / len(a)\n",
        "    r = 0\n",
        "    for i in range(len(a)):\n",
        "        s = (a[i] - b) ** 2\n",
        "        r += s\n",
        "\n",
        "    f = (r / len(a))\n",
        "    val = f ** 0.5\n",
        "    return val\n",
        "\n",
        "\n",
        "nums = input(\"Enter the numbers:\")\n",
        "n = list(map(int, nums.split()))\n",
        "res = sd(n)\n",
        "print(\"SD is :\",res)"
      ],
      "metadata": {
        "id": "MMU_cMlLUFxJ",
        "colab": {
          "base_uri": "https://localhost:8080/"
        },
        "outputId": "2cc4a631-6fb8-4d3d-dc2e-a7eb4d578451"
      },
      "execution_count": null,
      "outputs": [
        {
          "output_type": "stream",
          "name": "stdout",
          "text": [
            "Enter the numbers:1 2 3 4\n",
            "SD is : 1.118033988749895\n"
          ]
        }
      ]
    },
    {
      "cell_type": "markdown",
      "source": [
        "## Q9. Write function to compute and return Z-score values of a list of numbers"
      ],
      "metadata": {
        "id": "LufmQDJPURkM"
      }
    },
    {
      "cell_type": "code",
      "source": [
        "def z_score(data):\n",
        "  mean_val = mean(data)\n",
        "  std_dev = sd(data)\n",
        "\n",
        "  z_scores = []\n",
        "  for number in data:\n",
        "    z = (number - mean_val) / std_dev\n",
        "    z_scores.append(z)\n",
        "\n",
        "  return z_scores\n",
        "\n",
        "d = input(\"Enter the numbers :\")\n",
        "n = list(map(int, d.split()))\n",
        "result = z_score(n)\n",
        "print(\"Z-scores:\", result)\n"
      ],
      "metadata": {
        "id": "ml2qpSpFUYxV",
        "colab": {
          "base_uri": "https://localhost:8080/"
        },
        "outputId": "81f607fc-35b8-412b-f735-80a1dddc5cf4"
      },
      "execution_count": null,
      "outputs": [
        {
          "output_type": "stream",
          "name": "stdout",
          "text": [
            "Enter the numbers :1 2 3 \n",
            "Z-scores: [-1.224744871391589, 0.0, 1.224744871391589]\n"
          ]
        }
      ]
    },
    {
      "cell_type": "markdown",
      "source": [
        "## Q10. Write a function to compute and return the Pearson correlation coefficient value of two list of numbers"
      ],
      "metadata": {
        "id": "YQSNHIfxUb6s"
      }
    },
    {
      "cell_type": "code",
      "source": [],
      "metadata": {
        "id": "1e88UXCy83tU"
      },
      "execution_count": null,
      "outputs": []
    }
  ]
}