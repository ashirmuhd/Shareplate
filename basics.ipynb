{
  "nbformat": 4,
  "nbformat_minor": 0,
  "metadata": {
    "colab": {
      "provenance": [],
      "authorship_tag": "ABX9TyOzW2C//q7I+aKDTcGRw3pF",
      "include_colab_link": true
    },
    "kernelspec": {
      "name": "python3",
      "display_name": "Python 3"
    },
    "language_info": {
      "name": "python"
    }
  },
  "cells": [
    {
      "cell_type": "markdown",
      "metadata": {
        "id": "view-in-github",
        "colab_type": "text"
      },
      "source": [
        "<a href=\"https://colab.research.google.com/github/ashirmuhd/Shareplate/blob/main/basics.ipynb\" target=\"_parent\"><img src=\"https://colab.research.google.com/assets/colab-badge.svg\" alt=\"Open In Colab\"/></a>"
      ]
    },
    {
      "cell_type": "markdown",
      "source": [
        "#integers"
      ],
      "metadata": {
        "id": "wplr7ZjyksaU"
      }
    },
    {
      "cell_type": "code",
      "execution_count": null,
      "metadata": {
        "colab": {
          "base_uri": "https://localhost:8080/"
        },
        "id": "5MbDHMUuMifh",
        "outputId": "cd4b33aa-d43e-4734-ec2e-9db7af6273d3"
      },
      "outputs": [
        {
          "output_type": "stream",
          "name": "stdout",
          "text": [
            "2030\n"
          ]
        }
      ],
      "source": [
        "y=2025\n",
        "y=y+5\n",
        "print(y)"
      ]
    },
    {
      "cell_type": "code",
      "source": [
        "l=9.\n",
        "print(l)"
      ],
      "metadata": {
        "colab": {
          "base_uri": "https://localhost:8080/"
        },
        "id": "FyoMb3s-NHIo",
        "outputId": "f941abf9-1c8b-4c74-c511-e9f43443a8af"
      },
      "execution_count": null,
      "outputs": [
        {
          "output_type": "stream",
          "name": "stdout",
          "text": [
            "9.0\n"
          ]
        }
      ]
    },
    {
      "cell_type": "code",
      "source": [
        "type(l)"
      ],
      "metadata": {
        "colab": {
          "base_uri": "https://localhost:8080/"
        },
        "id": "ZGjY1rRINpFJ",
        "outputId": "14e1bc16-b8af-4c34-e1d5-2b0da1897660"
      },
      "execution_count": null,
      "outputs": [
        {
          "output_type": "execute_result",
          "data": {
            "text/plain": [
              "float"
            ]
          },
          "metadata": {},
          "execution_count": 5
        }
      ]
    },
    {
      "cell_type": "code",
      "source": [
        "c = 3+2j\n",
        "print(type(c))"
      ],
      "metadata": {
        "colab": {
          "base_uri": "https://localhost:8080/"
        },
        "id": "xJdwhQyuPpr9",
        "outputId": "d27910c0-e749-47d0-8a03-2eb4e8e479e3"
      },
      "execution_count": null,
      "outputs": [
        {
          "output_type": "stream",
          "name": "stdout",
          "text": [
            "<class 'complex'>\n"
          ]
        }
      ]
    },
    {
      "cell_type": "code",
      "source": [
        "a=-2 #integers can be negative no's also\n",
        "print(a)"
      ],
      "metadata": {
        "colab": {
          "base_uri": "https://localhost:8080/"
        },
        "id": "HAL_oTXEQbKu",
        "outputId": "7aae1504-58d9-4b75-a218-dd98e96db584"
      },
      "execution_count": null,
      "outputs": [
        {
          "output_type": "stream",
          "name": "stdout",
          "text": [
            "-2\n"
          ]
        }
      ]
    },
    {
      "cell_type": "markdown",
      "source": [
        "#strings\n",
        "\n"
      ],
      "metadata": {
        "id": "8hrHI4oQREeI"
      }
    },
    {
      "cell_type": "code",
      "source": [
        "m = \"leo\"\n",
        "print(m)"
      ],
      "metadata": {
        "colab": {
          "base_uri": "https://localhost:8080/"
        },
        "id": "lm4OFN1WRWCF",
        "outputId": "ccb6993c-a3f0-4167-90e1-a7aa8d9edd6b"
      },
      "execution_count": null,
      "outputs": [
        {
          "output_type": "stream",
          "name": "stdout",
          "text": [
            "leo\n"
          ]
        }
      ]
    },
    {
      "cell_type": "code",
      "source": [
        "len(m)"
      ],
      "metadata": {
        "colab": {
          "base_uri": "https://localhost:8080/"
        },
        "id": "iQY9W3f5RHEK",
        "outputId": "0a6a07e7-28ae-422e-fcd9-9968421463dd"
      },
      "execution_count": null,
      "outputs": [
        {
          "output_type": "execute_result",
          "data": {
            "text/plain": [
              "3"
            ]
          },
          "metadata": {},
          "execution_count": 11
        }
      ]
    },
    {
      "cell_type": "code",
      "source": [
        "len(\"s\")"
      ],
      "metadata": {
        "colab": {
          "base_uri": "https://localhost:8080/"
        },
        "id": "Z6gN_Wm9Rsr-",
        "outputId": "5161e6a0-1ec8-4cb3-fc41-6825c1aa6088"
      },
      "execution_count": null,
      "outputs": [
        {
          "output_type": "execute_result",
          "data": {
            "text/plain": [
              "1"
            ]
          },
          "metadata": {},
          "execution_count": 12
        }
      ]
    },
    {
      "cell_type": "code",
      "source": [
        "y=\"22\"\n",
        "type(y)"
      ],
      "metadata": {
        "colab": {
          "base_uri": "https://localhost:8080/"
        },
        "id": "ma6Ygu5eQzuM",
        "outputId": "67cab6ca-5aec-4f03-de90-8e8048ebf381"
      },
      "execution_count": null,
      "outputs": [
        {
          "output_type": "execute_result",
          "data": {
            "text/plain": [
              "str"
            ]
          },
          "metadata": {},
          "execution_count": 13
        }
      ]
    },
    {
      "cell_type": "code",
      "source": [
        "l=\"malayalam\"\n",
        "print(l[-1])"
      ],
      "metadata": {
        "colab": {
          "base_uri": "https://localhost:8080/"
        },
        "id": "RV_fidObSNTb",
        "outputId": "4066874c-9243-49ec-ef36-be5ae406a5aa"
      },
      "execution_count": null,
      "outputs": [
        {
          "output_type": "stream",
          "name": "stdout",
          "text": [
            "m\n"
          ]
        }
      ]
    },
    {
      "cell_type": "markdown",
      "source": [
        "#list"
      ],
      "metadata": {
        "id": "FO92EdHRSqc0"
      }
    },
    {
      "cell_type": "code",
      "source": [
        "d = [1,2,3,4]\n",
        "v = ['a','b','c']\n",
        "\n",
        "\n",
        "print(len(d))\n",
        "print(len(v))"
      ],
      "metadata": {
        "colab": {
          "base_uri": "https://localhost:8080/"
        },
        "id": "ZcjTU-o0Sj97",
        "outputId": "f5dca7a9-900e-4da2-9f37-bd830d1e6d6e"
      },
      "execution_count": null,
      "outputs": [
        {
          "output_type": "stream",
          "name": "stdout",
          "text": [
            "4\n",
            "3\n"
          ]
        }
      ]
    },
    {
      "cell_type": "code",
      "source": [
        "a =[\"apple\",5,\"grape\",10]\n",
        "a[0]=\"orange\"\n",
        "print(a)"
      ],
      "metadata": {
        "colab": {
          "base_uri": "https://localhost:8080/"
        },
        "id": "IxfbFTpTTVLH",
        "outputId": "cbda1016-cb08-4af9-9f13-79fa644375ba"
      },
      "execution_count": null,
      "outputs": [
        {
          "output_type": "stream",
          "name": "stdout",
          "text": [
            "['orange', 5, 'grape', 10]\n"
          ]
        }
      ]
    },
    {
      "cell_type": "code",
      "source": [
        "grocery = ['grape',5,'orange',10]\n",
        "grocery[3]=20\n",
        "print(grocery)"
      ],
      "metadata": {
        "colab": {
          "base_uri": "https://localhost:8080/"
        },
        "id": "SodwFkLdU7-v",
        "outputId": "51dd3741-7182-4924-fcff-7c7bca8db095"
      },
      "execution_count": null,
      "outputs": [
        {
          "output_type": "stream",
          "name": "stdout",
          "text": [
            "['grape', 5, 'orange', 20]\n"
          ]
        }
      ]
    },
    {
      "cell_type": "markdown",
      "source": [
        "#Tuple 'immutable'\n"
      ],
      "metadata": {
        "id": "aeBnFJw9WFXE"
      }
    },
    {
      "cell_type": "code",
      "source": [
        "t = (1,2,3)\n",
        "print(t)"
      ],
      "metadata": {
        "colab": {
          "base_uri": "https://localhost:8080/"
        },
        "id": "HHbMSZxPWDyy",
        "outputId": "4c35d105-74af-4de9-816c-140bb40537ea"
      },
      "execution_count": null,
      "outputs": [
        {
          "output_type": "stream",
          "name": "stdout",
          "text": [
            "(1, 2, 3)\n"
          ]
        }
      ]
    },
    {
      "cell_type": "code",
      "source": [
        "t[0] = 2"
      ],
      "metadata": {
        "colab": {
          "base_uri": "https://localhost:8080/",
          "height": 146
        },
        "id": "zHJ3HcZkWZuS",
        "outputId": "e56f105e-debf-4195-b229-317e96c2244b"
      },
      "execution_count": null,
      "outputs": [
        {
          "output_type": "error",
          "ename": "TypeError",
          "evalue": "'tuple' object does not support item assignment",
          "traceback": [
            "\u001b[0;31m---------------------------------------------------------------------------\u001b[0m",
            "\u001b[0;31mTypeError\u001b[0m                                 Traceback (most recent call last)",
            "\u001b[0;32m<ipython-input-25-2285411132>\u001b[0m in \u001b[0;36m<cell line: 0>\u001b[0;34m()\u001b[0m\n\u001b[0;32m----> 1\u001b[0;31m \u001b[0mt\u001b[0m\u001b[0;34m[\u001b[0m\u001b[0;36m0\u001b[0m\u001b[0;34m]\u001b[0m \u001b[0;34m=\u001b[0m \u001b[0;36m2\u001b[0m\u001b[0;34m\u001b[0m\u001b[0;34m\u001b[0m\u001b[0m\n\u001b[0m",
            "\u001b[0;31mTypeError\u001b[0m: 'tuple' object does not support item assignment"
          ]
        }
      ]
    },
    {
      "cell_type": "code",
      "source": [],
      "metadata": {
        "id": "HEB79hZSWKdH"
      },
      "execution_count": null,
      "outputs": []
    },
    {
      "cell_type": "markdown",
      "source": [
        "#range"
      ],
      "metadata": {
        "id": "zrYHIs8-WxcM"
      }
    },
    {
      "cell_type": "code",
      "source": [
        "range(6)"
      ],
      "metadata": {
        "colab": {
          "base_uri": "https://localhost:8080/"
        },
        "id": "U1BtezicW4BA",
        "outputId": "fdfcd4dc-07af-4114-ef92-2d366a95a818"
      },
      "execution_count": null,
      "outputs": [
        {
          "output_type": "execute_result",
          "data": {
            "text/plain": [
              "range(0, 6)"
            ]
          },
          "metadata": {},
          "execution_count": 26
        }
      ]
    },
    {
      "cell_type": "code",
      "source": [
        "list(range(6))"
      ],
      "metadata": {
        "colab": {
          "base_uri": "https://localhost:8080/"
        },
        "id": "Q5KXzXQQXATm",
        "outputId": "b3a5b656-e689-48bb-83e5-6fda2fa634c4"
      },
      "execution_count": null,
      "outputs": [
        {
          "output_type": "execute_result",
          "data": {
            "text/plain": [
              "[0, 1, 2, 3, 4, 5]"
            ]
          },
          "metadata": {},
          "execution_count": 28
        }
      ]
    },
    {
      "cell_type": "code",
      "source": [
        "list(range(6,10))"
      ],
      "metadata": {
        "colab": {
          "base_uri": "https://localhost:8080/"
        },
        "id": "9WJb_j4PXJZ_",
        "outputId": "d7058272-de1a-43fa-9c0e-57e20010d22c"
      },
      "execution_count": null,
      "outputs": [
        {
          "output_type": "execute_result",
          "data": {
            "text/plain": [
              "[6, 7, 8, 9]"
            ]
          },
          "metadata": {},
          "execution_count": 29
        }
      ]
    },
    {
      "cell_type": "code",
      "source": [
        "list(range(6,10,2))"
      ],
      "metadata": {
        "colab": {
          "base_uri": "https://localhost:8080/"
        },
        "id": "1BOBYLw3XfSq",
        "outputId": "71d5da01-2e0d-4717-f219-b65ce83e8651"
      },
      "execution_count": null,
      "outputs": [
        {
          "output_type": "execute_result",
          "data": {
            "text/plain": [
              "[6, 8]"
            ]
          },
          "metadata": {},
          "execution_count": 30
        }
      ]
    },
    {
      "cell_type": "code",
      "source": [
        "list(range(1,10,2))"
      ],
      "metadata": {
        "colab": {
          "base_uri": "https://localhost:8080/"
        },
        "id": "v-wadXkyXuk8",
        "outputId": "701647c4-ec0f-464f-c96f-46ddaf0cc2d0"
      },
      "execution_count": null,
      "outputs": [
        {
          "output_type": "execute_result",
          "data": {
            "text/plain": [
              "[1, 3, 5, 7, 9]"
            ]
          },
          "metadata": {},
          "execution_count": 32
        }
      ]
    },
    {
      "cell_type": "markdown",
      "source": [
        "#Dictionary\n"
      ],
      "metadata": {
        "id": "I6q7Ec7XYzFO"
      }
    },
    {
      "cell_type": "code",
      "source": [
        "data = {\n",
        "      \"Institute\":\"ICT\",\n",
        "      \"City\":\"TVM\"\n",
        "}"
      ],
      "metadata": {
        "id": "ltTQ9dc7Y3o3"
      },
      "execution_count": null,
      "outputs": []
    },
    {
      "cell_type": "code",
      "source": [
        "data[\"state\"] = \"Kerala\"\n",
        "print(data)"
      ],
      "metadata": {
        "colab": {
          "base_uri": "https://localhost:8080/"
        },
        "id": "Mf0P2dFoa_5u",
        "outputId": "1b8f94fb-b058-411e-abca-97e3fc9c8ca8"
      },
      "execution_count": null,
      "outputs": [
        {
          "output_type": "stream",
          "name": "stdout",
          "text": [
            "{'Institute': 'ICT', 'City': 'TVM', 'state': 'Kerala'}\n"
          ]
        }
      ]
    },
    {
      "cell_type": "code",
      "source": [
        "print(type(data))"
      ],
      "metadata": {
        "colab": {
          "base_uri": "https://localhost:8080/"
        },
        "id": "6BRH9P1OZPgJ",
        "outputId": "c5525936-d069-4c05-8bbb-013c329cba3d"
      },
      "execution_count": null,
      "outputs": [
        {
          "output_type": "stream",
          "name": "stdout",
          "text": [
            "<class 'dict'>\n"
          ]
        }
      ]
    },
    {
      "cell_type": "code",
      "source": [
        "data[\"Institute\"]"
      ],
      "metadata": {
        "colab": {
          "base_uri": "https://localhost:8080/",
          "height": 36
        },
        "id": "g2rEBv9iZU81",
        "outputId": "ff836f36-7ba2-468d-8431-985bafb7cf58"
      },
      "execution_count": null,
      "outputs": [
        {
          "output_type": "execute_result",
          "data": {
            "text/plain": [
              "'ICT'"
            ],
            "application/vnd.google.colaboratory.intrinsic+json": {
              "type": "string"
            }
          },
          "metadata": {},
          "execution_count": 38
        }
      ]
    },
    {
      "cell_type": "code",
      "source": [
        "dict = {\n",
        "       \"Name\":\"Ashir muhammad\",\n",
        "       \"City\":\"Kollam\",\n",
        "       \"Ph_no\":\"9497826561\"\n",
        "}\n",
        "print(dict)"
      ],
      "metadata": {
        "colab": {
          "base_uri": "https://localhost:8080/"
        },
        "id": "9andIxEhZuGo",
        "outputId": "b597aa2b-58ea-4714-a4c0-7d063f11a149"
      },
      "execution_count": null,
      "outputs": [
        {
          "output_type": "stream",
          "name": "stdout",
          "text": [
            "{'Name': 'Ashir muhammad', 'City': 'Kollam', 'Ph_no': '9497826561'}\n"
          ]
        }
      ]
    },
    {
      "cell_type": "code",
      "source": [
        "dict.values()"
      ],
      "metadata": {
        "colab": {
          "base_uri": "https://localhost:8080/"
        },
        "id": "PLo4DWNIbRx_",
        "outputId": "c628a4e3-888a-4dd2-ac2b-439485dca17a"
      },
      "execution_count": null,
      "outputs": [
        {
          "output_type": "execute_result",
          "data": {
            "text/plain": [
              "dict_values(['Ashir muhammad', 'Kollam', '9497826561'])"
            ]
          },
          "metadata": {},
          "execution_count": 43
        }
      ]
    },
    {
      "cell_type": "code",
      "source": [
        "list(dict.values())"
      ],
      "metadata": {
        "colab": {
          "base_uri": "https://localhost:8080/"
        },
        "id": "7wXNaS4cboIh",
        "outputId": "b1c7a756-2568-4bfc-f551-dc4fa1c4345f"
      },
      "execution_count": null,
      "outputs": [
        {
          "output_type": "execute_result",
          "data": {
            "text/plain": [
              "['Ashir muhammad', 'Kollam', '9497826561']"
            ]
          },
          "metadata": {},
          "execution_count": 44
        }
      ]
    },
    {
      "cell_type": "markdown",
      "source": [
        "#sets"
      ],
      "metadata": {
        "id": "I0LDGtYIcOcj"
      }
    },
    {
      "cell_type": "code",
      "source": [
        "set={1,2,3,4}\n",
        "print(set)"
      ],
      "metadata": {
        "colab": {
          "base_uri": "https://localhost:8080/"
        },
        "id": "5gGgNW2BcQkZ",
        "outputId": "df84e65f-6b91-4e49-8cb2-0392a9fadd14"
      },
      "execution_count": null,
      "outputs": [
        {
          "output_type": "stream",
          "name": "stdout",
          "text": [
            "{1, 2, 3, 4}\n"
          ]
        }
      ]
    },
    {
      "cell_type": "code",
      "source": [
        "type(set)"
      ],
      "metadata": {
        "colab": {
          "base_uri": "https://localhost:8080/"
        },
        "id": "FVvnAVMfcbCs",
        "outputId": "b9fabbb8-93e3-4ca8-ac06-d9881f93947d"
      },
      "execution_count": null,
      "outputs": [
        {
          "output_type": "execute_result",
          "data": {
            "text/plain": [
              "set"
            ]
          },
          "metadata": {},
          "execution_count": 46
        }
      ]
    },
    {
      "cell_type": "code",
      "source": [
        "set={1,2,2,3,3,4}\n",
        "print(set)"
      ],
      "metadata": {
        "colab": {
          "base_uri": "https://localhost:8080/"
        },
        "id": "KpeMyUrjceTY",
        "outputId": "535a180e-2329-4124-a9a3-fbdc128cdb21"
      },
      "execution_count": null,
      "outputs": [
        {
          "output_type": "stream",
          "name": "stdout",
          "text": [
            "{1, 2, 3, 4}\n"
          ]
        }
      ]
    },
    {
      "cell_type": "markdown",
      "source": [],
      "metadata": {
        "id": "_6QJVqQoli7J"
      }
    },
    {
      "cell_type": "markdown",
      "source": [
        "#membership operators"
      ],
      "metadata": {
        "id": "DUaBg2oNlk_3"
      }
    },
    {
      "cell_type": "code",
      "source": [
        "print(4 in (1,2,3))"
      ],
      "metadata": {
        "colab": {
          "base_uri": "https://localhost:8080/"
        },
        "id": "4g13R-lGltno",
        "outputId": "f3d8fc66-0a94-4b13-9c57-1c511e68d387"
      },
      "execution_count": null,
      "outputs": [
        {
          "output_type": "stream",
          "name": "stdout",
          "text": [
            "False\n"
          ]
        }
      ]
    },
    {
      "cell_type": "code",
      "source": [
        "print(4 not in (1,2,3))"
      ],
      "metadata": {
        "colab": {
          "base_uri": "https://localhost:8080/"
        },
        "id": "zPBQMuoTl0Ja",
        "outputId": "207214ce-7fd3-414d-81f0-f3f7961cc5ab"
      },
      "execution_count": null,
      "outputs": [
        {
          "output_type": "stream",
          "name": "stdout",
          "text": [
            "True\n"
          ]
        }
      ]
    },
    {
      "cell_type": "code",
      "source": [
        "a = input(\"Enter your Name:\")\n",
        "b = len(a)\n",
        "print(\"Length of your name is:\", b)\n",
        "\n"
      ],
      "metadata": {
        "id": "tNXi0oB3qSv9",
        "colab": {
          "base_uri": "https://localhost:8080/"
        },
        "outputId": "927e5bff-7db8-4fcb-d8fb-8317363a40e2"
      },
      "execution_count": null,
      "outputs": [
        {
          "output_type": "stream",
          "name": "stdout",
          "text": [
            "Enter your Name:as\n",
            "Length of your name is: 2\n"
          ]
        }
      ]
    },
    {
      "cell_type": "code",
      "source": [
        "import math\n",
        "\n",
        "n = input(\"Enter operator (+ - * / % **): \")\n",
        "n1 =float( input(\"Enter first number: \"))\n",
        "n2 = float(input(\"Enter second number: \"))\n",
        "\n",
        "if n == \"+\":\n",
        "    res= n1 + n2\n",
        "    print(res)\n",
        "elif n == \"-\":\n",
        "    print(n1 - n2)\n",
        "elif n == \"*\":\n",
        "    print(n1 * n2)\n",
        "elif n == \"/\":\n",
        "    print(n1 / n2)\n",
        "elif n == \"%\":\n",
        "    print(n1 % n2)\n",
        "elif n == \"**\":\n",
        "    print(n1 ** n2)\n",
        "else:\n",
        "    print(\"Invalid operator\")"
      ],
      "metadata": {
        "colab": {
          "base_uri": "https://localhost:8080/"
        },
        "id": "YV3Z0pxYtjmV",
        "outputId": "ba4d907b-0d1c-43e9-b900-d0f17e1aafbb"
      },
      "execution_count": null,
      "outputs": [
        {
          "output_type": "stream",
          "name": "stdout",
          "text": [
            "Enter operator (+ - * / % **): **\n",
            "Enter first number: 2\n",
            "Enter second number: 3\n",
            "8.0\n"
          ]
        }
      ]
    },
    {
      "cell_type": "code",
      "source": [
        " a = input(\"Enter your name :\")\n",
        "\n",
        " dict1 = {\n",
        "          'Name' : \"\",\n",
        "          'Age' :'22',\n",
        "          \"Place\" : \"palakkad\",\n",
        "          \"Education\" : \"BCA\"\n",
        "\n",
        " }\n",
        "\n",
        "      print(dict1)\n"
      ],
      "metadata": {
        "colab": {
          "base_uri": "https://localhost:8080/",
          "height": 110
        },
        "id": "l7ZQMEedu4vg",
        "outputId": "061ba4ee-01d8-43b0-b03e-e157764eed31"
      },
      "execution_count": null,
      "outputs": [
        {
          "output_type": "error",
          "ename": "IndentationError",
          "evalue": "unexpected indent (<ipython-input-66-2823514859>, line 11)",
          "traceback": [
            "\u001b[0;36m  File \u001b[0;32m\"<ipython-input-66-2823514859>\"\u001b[0;36m, line \u001b[0;32m11\u001b[0m\n\u001b[0;31m    print(dict1)\u001b[0m\n\u001b[0m    ^\u001b[0m\n\u001b[0;31mIndentationError\u001b[0m\u001b[0;31m:\u001b[0m unexpected indent\n"
          ]
        }
      ]
    },
    {
      "cell_type": "code",
      "source": [],
      "metadata": {
        "id": "p_XMGivgUzco"
      },
      "execution_count": null,
      "outputs": []
    },
    {
      "cell_type": "markdown",
      "source": [
        "#std i/o fnc"
      ],
      "metadata": {
        "id": "2z-qD_0mU0YM"
      }
    },
    {
      "cell_type": "code",
      "source": [
        "x = input(\"enter\")"
      ],
      "metadata": {
        "colab": {
          "base_uri": "https://localhost:8080/"
        },
        "id": "-XbfcHPgU_Eq",
        "outputId": "2779fc5a-5627-400c-dcd3-753cfb4dac81"
      },
      "execution_count": null,
      "outputs": [
        {
          "name": "stdout",
          "output_type": "stream",
          "text": [
            "enter22\n"
          ]
        }
      ]
    },
    {
      "cell_type": "code",
      "source": [
        "type(x)"
      ],
      "metadata": {
        "colab": {
          "base_uri": "https://localhost:8080/"
        },
        "id": "GO5G-28DVMeN",
        "outputId": "b3a6589f-eec1-42ac-81f8-2a51df37b9ce"
      },
      "execution_count": null,
      "outputs": [
        {
          "output_type": "execute_result",
          "data": {
            "text/plain": [
              "str"
            ]
          },
          "metadata": {},
          "execution_count": 2
        }
      ]
    },
    {
      "cell_type": "code",
      "source": [
        "x = input(\"enter\")"
      ],
      "metadata": {
        "colab": {
          "base_uri": "https://localhost:8080/"
        },
        "id": "DC37JBKkVREh",
        "outputId": "0bfc2e34-d301-42df-8125-7cc10f120784"
      },
      "execution_count": null,
      "outputs": [
        {
          "name": "stdout",
          "output_type": "stream",
          "text": [
            "enter22\n"
          ]
        }
      ]
    },
    {
      "cell_type": "code",
      "source": [
        "type(x)"
      ],
      "metadata": {
        "colab": {
          "base_uri": "https://localhost:8080/"
        },
        "id": "zMqLuGfhVbHp",
        "outputId": "a631c72e-8fb1-440c-ded6-3ac81b9be6f5"
      },
      "execution_count": null,
      "outputs": [
        {
          "output_type": "execute_result",
          "data": {
            "text/plain": [
              "str"
            ]
          },
          "metadata": {},
          "execution_count": 21
        }
      ]
    },
    {
      "cell_type": "code",
      "source": [
        "a = 10\n",
        "b = 20\n",
        "print(\"a contain\",a,\"and\",\"b contain\",b)"
      ],
      "metadata": {
        "colab": {
          "base_uri": "https://localhost:8080/"
        },
        "id": "Z7vlgRMIVhda",
        "outputId": "b271d8ed-319c-4529-a95d-7a86289848da"
      },
      "execution_count": null,
      "outputs": [
        {
          "output_type": "stream",
          "name": "stdout",
          "text": [
            "a contain 10 and b contain 20\n"
          ]
        }
      ]
    },
    {
      "cell_type": "code",
      "source": [
        "print(\"a contain {}\".format(a))"
      ],
      "metadata": {
        "colab": {
          "base_uri": "https://localhost:8080/"
        },
        "id": "cz3TQtHmVmVF",
        "outputId": "aff1516b-7bb5-4bf3-d991-5283dbd0e2ff"
      },
      "execution_count": null,
      "outputs": [
        {
          "output_type": "stream",
          "name": "stdout",
          "text": [
            "a contain 10\n"
          ]
        }
      ]
    },
    {
      "cell_type": "code",
      "source": [
        "print(\"a contain {} and b contain {}\".format(a,b))\n"
      ],
      "metadata": {
        "colab": {
          "base_uri": "https://localhost:8080/"
        },
        "id": "sICOtwS7Wut1",
        "outputId": "5c8bb8a9-d151-42af-bfe7-9a5c3373fbb5"
      },
      "execution_count": null,
      "outputs": [
        {
          "output_type": "stream",
          "name": "stdout",
          "text": [
            "a contain 10 and b contain 20\n"
          ]
        }
      ]
    },
    {
      "cell_type": "code",
      "source": [
        "print(\"a contain {0} and b contain {1}\".format(a,b)) #placeholder value"
      ],
      "metadata": {
        "colab": {
          "base_uri": "https://localhost:8080/"
        },
        "id": "qcfgKmdNXgOu",
        "outputId": "f51cc500-7395-49a0-83e3-6b00b1ab6e4e"
      },
      "execution_count": null,
      "outputs": [
        {
          "output_type": "stream",
          "name": "stdout",
          "text": [
            "a contain 10 and b contain 20\n"
          ]
        }
      ]
    },
    {
      "cell_type": "code",
      "source": [
        "print(\"a contain {1} and b contain {0}\".format(b,a))"
      ],
      "metadata": {
        "colab": {
          "base_uri": "https://localhost:8080/"
        },
        "id": "M_5y58CbXln9",
        "outputId": "9e1a6854-053b-4e4a-aa13-aac39252b6ad"
      },
      "execution_count": null,
      "outputs": [
        {
          "output_type": "stream",
          "name": "stdout",
          "text": [
            "a contain 10 and b contain 20\n"
          ]
        }
      ]
    },
    {
      "cell_type": "code",
      "source": [
        "print(\"Hello\\n\"*8)"
      ],
      "metadata": {
        "colab": {
          "base_uri": "https://localhost:8080/"
        },
        "id": "q8YYCzY1YFRH",
        "outputId": "9ba1c8b9-9c9d-4246-9c8e-6d4b14a1c95b"
      },
      "execution_count": null,
      "outputs": [
        {
          "output_type": "stream",
          "name": "stdout",
          "text": [
            "Hello\n",
            "Hello\n",
            "Hello\n",
            "Hello\n",
            "Hello\n",
            "Hello\n",
            "Hello\n",
            "Hello\n",
            "\n"
          ]
        }
      ]
    },
    {
      "cell_type": "code",
      "source": [
        "a = (input(\"enter your name :\"))\n",
        "b = int(input(\"enter your age :\"))\n",
        "print((\"welcome \"+ a + \"\\n\") * b)"
      ],
      "metadata": {
        "id": "xl3NZUZhYu3C",
        "colab": {
          "base_uri": "https://localhost:8080/"
        },
        "outputId": "75c6e15d-ddd5-4c09-e377-c1ae67f16953"
      },
      "execution_count": null,
      "outputs": [
        {
          "output_type": "stream",
          "name": "stdout",
          "text": [
            "enter your name :ashir\n",
            "enter your age :10\n",
            "welcome ashir\n",
            "welcome ashir\n",
            "welcome ashir\n",
            "welcome ashir\n",
            "welcome ashir\n",
            "welcome ashir\n",
            "welcome ashir\n",
            "welcome ashir\n",
            "welcome ashir\n",
            "welcome ashir\n",
            "\n"
          ]
        }
      ]
    },
    {
      "cell_type": "code",
      "source": [
        "a = (input(\"enter your name :\"))\n",
        "b = int(input(\"enter your age :\"))\n",
        "print((\"Welcome {}\\n\".format(a))*b)"
      ],
      "metadata": {
        "id": "mcnGAQ2pUwEg",
        "colab": {
          "base_uri": "https://localhost:8080/"
        },
        "outputId": "cddda615-38c8-4784-b333-eb1b674b0218"
      },
      "execution_count": null,
      "outputs": [
        {
          "output_type": "stream",
          "name": "stdout",
          "text": [
            "enter your name :Ashir\n",
            "enter your age :5\n",
            "Welcome Ashir\n",
            "Welcome Ashir\n",
            "Welcome Ashir\n",
            "Welcome Ashir\n",
            "Welcome Ashir\n",
            "\n"
          ]
        }
      ]
    },
    {
      "cell_type": "markdown",
      "source": [
        "#lineBreaking"
      ],
      "metadata": {
        "id": "JhQio5tVeDc7"
      }
    },
    {
      "cell_type": "code",
      "source": [
        "a = 10\n",
        "b = 0.7\n",
        "y = 30\n",
        "t = a+\\\n",
        "   (a*b)*y\n",
        "print(\"total amount \",t)\n"
      ],
      "metadata": {
        "id": "gaSWJqCrYQHn",
        "colab": {
          "base_uri": "https://localhost:8080/"
        },
        "outputId": "56fe55e2-05e3-47ec-a669-70c4bf7ae967"
      },
      "execution_count": null,
      "outputs": [
        {
          "output_type": "stream",
          "name": "stdout",
          "text": [
            "total amount  220.0\n"
          ]
        }
      ]
    },
    {
      "cell_type": "markdown",
      "source": [
        "#Multiline Assignment"
      ],
      "metadata": {
        "id": "Oa1BB74YerKH"
      }
    },
    {
      "cell_type": "code",
      "source": [
        "a,b,c =10,20,30\n",
        "print(a,b,c)"
      ],
      "metadata": {
        "colab": {
          "base_uri": "https://localhost:8080/"
        },
        "id": "C8C0HU86exCv",
        "outputId": "501a67a8-d1a7-486b-9350-2c615e658d6b"
      },
      "execution_count": null,
      "outputs": [
        {
          "output_type": "stream",
          "name": "stdout",
          "text": [
            "10 20 30\n"
          ]
        }
      ]
    },
    {
      "cell_type": "markdown",
      "source": [
        "#Conditional Statements"
      ],
      "metadata": {
        "id": "lby9rVHYhY2_"
      }
    },
    {
      "cell_type": "code",
      "source": [
        "a = 3\n",
        "b = 1\n",
        "if a>b:\n",
        "  print(\"a is greater\")\n",
        "else:\n",
        "  print(\"b is greater\")"
      ],
      "metadata": {
        "colab": {
          "base_uri": "https://localhost:8080/"
        },
        "id": "Qab9ZCsWgb5d",
        "outputId": "55047f86-3000-435d-c8da-ba1325399d0a"
      },
      "execution_count": null,
      "outputs": [
        {
          "output_type": "stream",
          "name": "stdout",
          "text": [
            "a is greater\n"
          ]
        }
      ]
    },
    {
      "cell_type": "code",
      "source": [
        "a = 10\n",
        "if a>10:\n",
        "  print(\"greater than 10\")\n",
        "if a<10:\n",
        "  print(\"less than 10\")\n",
        "if a==10:\n",
        "  print(\"equal to 10\")"
      ],
      "metadata": {
        "colab": {
          "base_uri": "https://localhost:8080/"
        },
        "id": "P3zC1P6YjKBP",
        "outputId": "2440ef1a-6f68-4b7a-c59d-979b3f6a0624"
      },
      "execution_count": null,
      "outputs": [
        {
          "output_type": "stream",
          "name": "stdout",
          "text": [
            "equal to 10\n"
          ]
        }
      ]
    },
    {
      "cell_type": "code",
      "source": [
        "a = int(input(\"Enter a number:\"))\n",
        "if a%2==0:\n",
        "  print(\"Number is even\")\n",
        "else:\n",
        "  print(\"Number is odd\")\n"
      ],
      "metadata": {
        "colab": {
          "base_uri": "https://localhost:8080/"
        },
        "id": "06GJ-WIfjJLh",
        "outputId": "834f28ab-5c24-43f7-943e-2893f11d0bf9"
      },
      "execution_count": null,
      "outputs": [
        {
          "output_type": "stream",
          "name": "stdout",
          "text": [
            "Enter a number:200\n",
            "Number is even\n"
          ]
        }
      ]
    },
    {
      "cell_type": "code",
      "source": [
        "d = int(input(\"Enter a number:\"))\n",
        "if (d%9)==0:\n",
        "  print(\"Odd\")\n",
        "elif (d%4)==0:\n",
        "  print(\"Even\")\n",
        "else:\n",
        "  print(\"not divisible\")"
      ],
      "metadata": {
        "colab": {
          "base_uri": "https://localhost:8080/"
        },
        "id": "jxscEmuNkz1H",
        "outputId": "c918c839-5f88-49bf-9ac6-a56ebe610bb7"
      },
      "execution_count": null,
      "outputs": [
        {
          "output_type": "stream",
          "name": "stdout",
          "text": [
            "Enter a number:10\n",
            "not divisible\n"
          ]
        }
      ]
    },
    {
      "cell_type": "code",
      "source": [
        "a = int(input(\"Enter your score between 0 and 100: \"))\n",
        "if a>=90:\n",
        "  print(\"A\")\n",
        "elif a>=80 and a<=89:\n",
        "  print(\"B\")\n",
        "elif a>=70 and a<=79:\n",
        "  print(\"C\")\n",
        "elif a>=60 and a<=69:\n",
        "  print(\"D\")\n",
        "else:\n",
        "  print(\"F\")"
      ],
      "metadata": {
        "colab": {
          "base_uri": "https://localhost:8080/"
        },
        "id": "n1PwLg9xn5I7",
        "outputId": "7bea81eb-c053-431f-e7ec-4d6615c97cf8"
      },
      "execution_count": null,
      "outputs": [
        {
          "output_type": "stream",
          "name": "stdout",
          "text": [
            "Enter your score between 0 and 100: 99\n",
            "A\n"
          ]
        }
      ]
    },
    {
      "cell_type": "code",
      "source": [
        "a = int(input(\"Enter a number:\"))\n",
        "if a>0:\n",
        "  print(\"positive\")\n",
        "elif a<0:\n",
        "  print(\"Negative\")\n",
        "else:\n",
        "  print(\"Zero\")"
      ],
      "metadata": {
        "colab": {
          "base_uri": "https://localhost:8080/"
        },
        "id": "xVIbhWtMrrXo",
        "outputId": "72276138-ea3c-4175-ca12-c3a3f9e7fffc"
      },
      "execution_count": null,
      "outputs": [
        {
          "output_type": "stream",
          "name": "stdout",
          "text": [
            "Enter a number:0\n",
            "Zero\n"
          ]
        }
      ]
    },
    {
      "cell_type": "markdown",
      "source": [
        "#string indexing and slice"
      ],
      "metadata": {
        "id": "Lc0KQncatP5C"
      }
    },
    {
      "cell_type": "code",
      "source": [
        "msg = \"ronaldo\"\n",
        "print(msg[1:3])"
      ],
      "metadata": {
        "colab": {
          "base_uri": "https://localhost:8080/"
        },
        "id": "T8974NeatXfW",
        "outputId": "6733d227-de60-4335-c30b-0310f53e9bb3"
      },
      "execution_count": null,
      "outputs": [
        {
          "output_type": "stream",
          "name": "stdout",
          "text": [
            "on\n"
          ]
        }
      ]
    },
    {
      "cell_type": "code",
      "source": [
        "print(msg[1:])"
      ],
      "metadata": {
        "colab": {
          "base_uri": "https://localhost:8080/"
        },
        "id": "s_ifbC1Mt4-X",
        "outputId": "fe665208-ea1f-41b8-d488-407a526d9375"
      },
      "execution_count": null,
      "outputs": [
        {
          "output_type": "stream",
          "name": "stdout",
          "text": [
            "onaldo\n"
          ]
        }
      ]
    },
    {
      "cell_type": "code",
      "source": [
        "print(msg[1:6])"
      ],
      "metadata": {
        "colab": {
          "base_uri": "https://localhost:8080/"
        },
        "id": "vfMd3V2qt79W",
        "outputId": "fd57a973-40f5-4d2a-e9bd-3e5454e3c573"
      },
      "execution_count": null,
      "outputs": [
        {
          "output_type": "stream",
          "name": "stdout",
          "text": [
            "onald\n"
          ]
        }
      ]
    },
    {
      "cell_type": "code",
      "source": [
        "print(msg[1:8])"
      ],
      "metadata": {
        "colab": {
          "base_uri": "https://localhost:8080/"
        },
        "id": "iXfSBv1euCSi",
        "outputId": "22dc8db1-4b2a-4925-ab60-b1a6b73fa9e4"
      },
      "execution_count": null,
      "outputs": [
        {
          "output_type": "stream",
          "name": "stdout",
          "text": [
            "onaldo\n"
          ]
        }
      ]
    },
    {
      "cell_type": "code",
      "source": [
        "print(msg[1:8:2])"
      ],
      "metadata": {
        "colab": {
          "base_uri": "https://localhost:8080/"
        },
        "id": "DqNWuSsjuFTb",
        "outputId": "aca76b19-7cfc-4401-a92b-a0baee179a2f"
      },
      "execution_count": null,
      "outputs": [
        {
          "output_type": "stream",
          "name": "stdout",
          "text": [
            "oad\n"
          ]
        }
      ]
    },
    {
      "cell_type": "code",
      "source": [
        "print(msg[: : ])"
      ],
      "metadata": {
        "colab": {
          "base_uri": "https://localhost:8080/"
        },
        "id": "HL5pSpTGuaON",
        "outputId": "89911a21-3940-4cc1-dd71-fcc3c6c1981f"
      },
      "execution_count": null,
      "outputs": [
        {
          "output_type": "stream",
          "name": "stdout",
          "text": [
            "ronaldo\n"
          ]
        }
      ]
    },
    {
      "cell_type": "code",
      "source": [
        "msg = \"Welcome\"\n",
        "print(msg[3:] + msg[:3])"
      ],
      "metadata": {
        "colab": {
          "base_uri": "https://localhost:8080/"
        },
        "id": "kHmTSuxBuoPE",
        "outputId": "2538c550-5c82-4192-dc41-c6a1e2e75cd9"
      },
      "execution_count": null,
      "outputs": [
        {
          "output_type": "stream",
          "name": "stdout",
          "text": [
            "comeWel\n"
          ]
        }
      ]
    },
    {
      "cell_type": "code",
      "source": [
        "print(msg[::-1])"
      ],
      "metadata": {
        "colab": {
          "base_uri": "https://localhost:8080/"
        },
        "id": "Owv4ljgwvMBF",
        "outputId": "dc3f8f20-7ded-4f05-b5fa-befc64bd8c98"
      },
      "execution_count": null,
      "outputs": [
        {
          "output_type": "stream",
          "name": "stdout",
          "text": [
            "emocleW\n"
          ]
        }
      ]
    },
    {
      "cell_type": "code",
      "source": [
        "a = input(\"Enter a word:\")\n",
        "if a ==a[::-1]:\n",
        "  print(\"it is a panlindrome\")\n",
        "else:\n",
        "  print(\"not panlindrome\")"
      ],
      "metadata": {
        "colab": {
          "base_uri": "https://localhost:8080/"
        },
        "id": "OjUerPhu3mpl",
        "outputId": "da987e62-2fea-4677-bb28-b3aff983e126"
      },
      "execution_count": null,
      "outputs": [
        {
          "output_type": "stream",
          "name": "stdout",
          "text": [
            "Enter a word:MALAYALAM\n",
            "it is a panlindrome\n"
          ]
        }
      ]
    },
    {
      "cell_type": "code",
      "source": [
        "\n",
        "digits = [\"zero\",\"one\",\"two\",\"three\",\"four\",\"five\",\"six\",\"seven\",\"eight\",\"nine\"]\n",
        "n = (input(\"Enter a 4 digit OTP:\"))\n",
        "a,b,c,d =int(n[0]),int(n[1]),int(n[2]),int(n[3])\n",
        "print(digits[a],digits[b],digits[c],digits[d])"
      ],
      "metadata": {
        "colab": {
          "base_uri": "https://localhost:8080/"
        },
        "id": "JmHRhY304W7U",
        "outputId": "c59a0a6e-aaf7-44e4-d00b-e51938460b97"
      },
      "execution_count": null,
      "outputs": [
        {
          "output_type": "stream",
          "name": "stdout",
          "text": [
            "Enter a 4 digit OTP:5643\n",
            "five six four three\n"
          ]
        }
      ]
    },
    {
      "cell_type": "code",
      "source": [
        "digits = [\"zero\",\"one\",\"two\",\"three\",\"four\",\"five\",\"six\",\"seven\",\"eight\",\"nine\"]\n",
        "n = (input(\"Enter a 4 digit OTP:\"))\n",
        "a,b,c,d =int(n[0]),int(n[1]),int(n[2]),int(n[3])\n",
        "if\n",
        "print(digits[a]+\"thousand\",digits[b]+\"hundred\",digits[c]+\"ty\",digits[d])"
      ],
      "metadata": {
        "colab": {
          "base_uri": "https://localhost:8080/"
        },
        "id": "zZ-x3TWTAcnT",
        "outputId": "d3c2dc3b-3a15-44bd-c29c-5f32f33201ed"
      },
      "execution_count": null,
      "outputs": [
        {
          "output_type": "stream",
          "name": "stdout",
          "text": [
            "Enter a 4 digit OTP:5612\n",
            "fivethousand sixhundred onety two\n"
          ]
        }
      ]
    },
    {
      "cell_type": "code",
      "source": [],
      "metadata": {
        "id": "ngAjeJkEN3qz"
      },
      "execution_count": null,
      "outputs": []
    },
    {
      "cell_type": "markdown",
      "source": [
        "#split"
      ],
      "metadata": {
        "id": "9nfd8oDIChDK"
      }
    },
    {
      "cell_type": "code",
      "source": [
        "\"Hello Welcome\".split(\" \")"
      ],
      "metadata": {
        "colab": {
          "base_uri": "https://localhost:8080/"
        },
        "id": "ZlTLsWFGBT7H",
        "outputId": "84f622be-d7aa-4b0f-f85b-98f453634fb8"
      },
      "execution_count": null,
      "outputs": [
        {
          "output_type": "execute_result",
          "data": {
            "text/plain": [
              "['Hello', 'Welcome']"
            ]
          },
          "metadata": {},
          "execution_count": 99
        }
      ]
    },
    {
      "cell_type": "code",
      "source": [
        "domain = [\"Data\",\"Science\"]\n",
        "\" \".join(domain)"
      ],
      "metadata": {
        "colab": {
          "base_uri": "https://localhost:8080/",
          "height": 36
        },
        "id": "sw9KF9SxBdXf",
        "outputId": "cde56a46-836a-49a4-dc77-0e18a83f7337"
      },
      "execution_count": null,
      "outputs": [
        {
          "output_type": "execute_result",
          "data": {
            "text/plain": [
              "'Data Science'"
            ],
            "application/vnd.google.colaboratory.intrinsic+json": {
              "type": "string"
            }
          },
          "metadata": {},
          "execution_count": 100
        }
      ]
    },
    {
      "cell_type": "code",
      "source": [
        "d ={\n",
        "    \"zero\" : \"0\",\"one\" : \"1\",\"two\" : \"2\",\"three\" :\"3\",\"four\" : \"4\",\"five\" : \"5\",\"six\" :\"6\",\"seven\":\"7\",\"eight\" :\"8\",\"nine\":\"9\"\n",
        "}\n",
        "\n",
        "n = input(\"Enter digits :\")\n",
        "a,b,c,e = (n.split(\" \"))\n",
        "print(d[a],d[b],d[c],d[e] )"
      ],
      "metadata": {
        "colab": {
          "base_uri": "https://localhost:8080/"
        },
        "id": "WR3E9mwMDnhJ",
        "outputId": "cee17065-42de-4141-873b-c3fac4f65130"
      },
      "execution_count": null,
      "outputs": [
        {
          "output_type": "stream",
          "name": "stdout",
          "text": [
            "Enter digits :nine five eight seven\n",
            "9 5 8 7\n"
          ]
        }
      ]
    },
    {
      "cell_type": "markdown",
      "source": [
        "#LOOPS"
      ],
      "metadata": {
        "id": "RqSl2hPtEo13"
      }
    },
    {
      "cell_type": "code",
      "source": [
        "x = [1,2,3,4]\n",
        "for item in x:\n",
        "  print(item)"
      ],
      "metadata": {
        "colab": {
          "base_uri": "https://localhost:8080/"
        },
        "id": "YkzRhxKREwJG",
        "outputId": "598f84c9-9df6-46f5-92a9-b02f1e49b845"
      },
      "execution_count": null,
      "outputs": [
        {
          "output_type": "stream",
          "name": "stdout",
          "text": [
            "1\n",
            "2\n",
            "3\n",
            "4\n"
          ]
        }
      ]
    },
    {
      "cell_type": "code",
      "source": [
        "a = [\"zero\",\"one\",\"two\",\"three\",\"four\"]\n",
        "n = (input(\"enter 4 digits:\"))\n",
        "e,b,c,d = int(n[0]),int(n[1]),int(n[2]),int(n[3])\n",
        "print(a[e],a[b],a[c],a[d])\n",
        "\n"
      ],
      "metadata": {
        "colab": {
          "base_uri": "https://localhost:8080/"
        },
        "id": "VJYbPGXpL48U",
        "outputId": "06f06dc1-6f9c-4ba8-af53-2832bdb31f65"
      },
      "execution_count": null,
      "outputs": [
        {
          "output_type": "stream",
          "name": "stdout",
          "text": [
            "enter 4 digits:2341\n",
            "two three four one\n"
          ]
        }
      ]
    },
    {
      "cell_type": "code",
      "source": [],
      "metadata": {
        "id": "oLO_Coo8MMgu"
      },
      "execution_count": null,
      "outputs": []
    },
    {
      "cell_type": "code",
      "source": [
        "print(1,2,sep = \" \")"
      ],
      "metadata": {
        "colab": {
          "base_uri": "https://localhost:8080/"
        },
        "id": "YEoctOPYE_x4",
        "outputId": "634ca858-79b5-470d-d246-706c05698501"
      },
      "execution_count": null,
      "outputs": [
        {
          "output_type": "stream",
          "name": "stdout",
          "text": [
            "1 2\n"
          ]
        }
      ]
    },
    {
      "cell_type": "code",
      "source": [
        "for i in range(2,11,2):\n",
        "  print(i,)"
      ],
      "metadata": {
        "colab": {
          "base_uri": "https://localhost:8080/"
        },
        "id": "ioPao-L1FsGV",
        "outputId": "de2fb58a-64fe-4cb0-f68b-0d0dbc47612d"
      },
      "execution_count": null,
      "outputs": [
        {
          "output_type": "stream",
          "name": "stdout",
          "text": [
            "2\n",
            "4\n",
            "6\n",
            "8\n",
            "10\n"
          ]
        }
      ]
    },
    {
      "cell_type": "code",
      "source": [
        "msg = \"Welcome\"\n",
        "for i in msg[::-1]:\n",
        "  print(i)"
      ],
      "metadata": {
        "colab": {
          "base_uri": "https://localhost:8080/"
        },
        "id": "jnUiyz8CGKMW",
        "outputId": "47ce4474-a7f8-477a-e969-e5c88dfa69a1"
      },
      "execution_count": null,
      "outputs": [
        {
          "output_type": "stream",
          "name": "stdout",
          "text": [
            "e\n",
            "m\n",
            "o\n",
            "c\n",
            "l\n",
            "e\n",
            "W\n"
          ]
        }
      ]
    },
    {
      "cell_type": "code",
      "source": [
        "msg = \"Welcome\"\n",
        "n = len(msg)\n",
        "for i in range(n-1,-1,-1):\n",
        "  print(msg[i])\n"
      ],
      "metadata": {
        "colab": {
          "base_uri": "https://localhost:8080/"
        },
        "id": "uI9uhKKpG2t6",
        "outputId": "f8622b86-38fe-4319-c361-6545fd5073ee"
      },
      "execution_count": null,
      "outputs": [
        {
          "output_type": "stream",
          "name": "stdout",
          "text": [
            "e\n",
            "m\n",
            "o\n",
            "c\n",
            "l\n",
            "e\n",
            "W\n"
          ]
        }
      ]
    },
    {
      "cell_type": "code",
      "source": [
        "msg = \"Welcome\"\n",
        "n = len(msg)\n",
        "for i in range(n):\n",
        "  if i == 3:\n",
        "    break\n",
        "  print(msg[i])"
      ],
      "metadata": {
        "colab": {
          "base_uri": "https://localhost:8080/"
        },
        "id": "dOv3YOgKJHCp",
        "outputId": "1eb72393-d6a1-4b0a-fc87-40a32df687cc"
      },
      "execution_count": null,
      "outputs": [
        {
          "output_type": "stream",
          "name": "stdout",
          "text": [
            "W\n",
            "e\n",
            "l\n"
          ]
        }
      ]
    },
    {
      "cell_type": "code",
      "source": [
        "msg = \"Welcome\"\n",
        "n = len(msg)\n",
        "for i in range(1,5):\n",
        "  print(msg[i])"
      ],
      "metadata": {
        "colab": {
          "base_uri": "https://localhost:8080/"
        },
        "id": "UIhiSiA8J1sU",
        "outputId": "679e390d-adf1-4b33-ef59-6ea9c810ad37"
      },
      "execution_count": null,
      "outputs": [
        {
          "output_type": "stream",
          "name": "stdout",
          "text": [
            "e\n",
            "l\n",
            "c\n",
            "o\n"
          ]
        }
      ]
    },
    {
      "cell_type": "code",
      "source": [
        "msg = \"Welcome\"\n",
        "n = len(msg)\n",
        "for i in range(n):\n",
        "  if i == 1 or i == 3:\n",
        "    continue\n",
        "  print(msg[i])"
      ],
      "metadata": {
        "colab": {
          "base_uri": "https://localhost:8080/"
        },
        "id": "zC3X-j7EKWax",
        "outputId": "0dbcfcb9-3cba-4236-87f1-7a0c972b2454"
      },
      "execution_count": null,
      "outputs": [
        {
          "output_type": "stream",
          "name": "stdout",
          "text": [
            "W\n",
            "l\n",
            "o\n",
            "m\n",
            "e\n"
          ]
        }
      ]
    },
    {
      "cell_type": "code",
      "source": [
        "\n",
        "for i in range(1,6):\n",
        "  print(\"*\"*i)\n"
      ],
      "metadata": {
        "colab": {
          "base_uri": "https://localhost:8080/"
        },
        "id": "X_kxQcsZMPkp",
        "outputId": "6249c257-837f-4ecd-cd20-7b9f1de7c558"
      },
      "execution_count": null,
      "outputs": [
        {
          "output_type": "stream",
          "name": "stdout",
          "text": [
            "*\n",
            "**\n",
            "***\n",
            "****\n",
            "*****\n"
          ]
        }
      ]
    },
    {
      "cell_type": "code",
      "source": [
        "for i in range(5,-1,-1):\n",
        "  print(\"*\"*i)\n"
      ],
      "metadata": {
        "colab": {
          "base_uri": "https://localhost:8080/"
        },
        "id": "OSUa7ngZOdme",
        "outputId": "1644c062-e406-4f5b-aadf-02c8952f1463"
      },
      "execution_count": null,
      "outputs": [
        {
          "output_type": "stream",
          "name": "stdout",
          "text": [
            "*****\n",
            "****\n",
            "***\n",
            "**\n",
            "*\n",
            "\n"
          ]
        }
      ]
    },
    {
      "cell_type": "code",
      "source": [
        "for i in range(1,8,2):\n",
        "  print(int((7-i)/2)*' '+i*'*')\n"
      ],
      "metadata": {
        "colab": {
          "base_uri": "https://localhost:8080/"
        },
        "id": "bWo5KZzRPx8F",
        "outputId": "cdc7c52d-1964-4caf-9236-de7f86a53dd1"
      },
      "execution_count": null,
      "outputs": [
        {
          "output_type": "stream",
          "name": "stdout",
          "text": [
            "   *\n",
            "  ***\n",
            " *****\n",
            "*******\n"
          ]
        }
      ]
    },
    {
      "cell_type": "code",
      "source": [
        "for i in range(7,0,-2):\n",
        "  print(int((7-i)/2)*' '+i*'*')\n"
      ],
      "metadata": {
        "colab": {
          "base_uri": "https://localhost:8080/"
        },
        "id": "0W7LydhXUDJg",
        "outputId": "5b930c6a-5fa5-4032-b313-455006f0b4eb"
      },
      "execution_count": null,
      "outputs": [
        {
          "output_type": "stream",
          "name": "stdout",
          "text": [
            "*******\n",
            " *****\n",
            "  ***\n",
            "   *\n"
          ]
        }
      ]
    },
    {
      "cell_type": "code",
      "source": [
        "for i in range(1,10):\n",
        "  print(int((9-i))*' '+i*'*')\n"
      ],
      "metadata": {
        "colab": {
          "base_uri": "https://localhost:8080/"
        },
        "id": "8FRZ4t5IUunB",
        "outputId": "53d56294-2421-4ee7-a0b3-1895da125078"
      },
      "execution_count": null,
      "outputs": [
        {
          "output_type": "stream",
          "name": "stdout",
          "text": [
            "        *\n",
            "       **\n",
            "      ***\n",
            "     ****\n",
            "    *****\n",
            "   ******\n",
            "  *******\n",
            " ********\n",
            "*********\n"
          ]
        }
      ]
    },
    {
      "cell_type": "code",
      "source": [
        "i = 0\n",
        "while i<5:\n",
        "  print(i)\n",
        "  i += 1"
      ],
      "metadata": {
        "colab": {
          "base_uri": "https://localhost:8080/"
        },
        "id": "btFSL3iZW_Jw",
        "outputId": "1aefcbd9-4973-4e54-ce33-44b68f7431c2"
      },
      "execution_count": null,
      "outputs": [
        {
          "output_type": "stream",
          "name": "stdout",
          "text": [
            "0\n",
            "1\n",
            "2\n",
            "3\n",
            "4\n"
          ]
        }
      ]
    },
    {
      "cell_type": "code",
      "source": [
        "a = int(input(\"Enter a number\"))\n",
        "for i in range(1,11):\n",
        "  print(i  , \"*\" ,a,\"=\", i*a)\n",
        "\n",
        "\n"
      ],
      "metadata": {
        "colab": {
          "base_uri": "https://localhost:8080/"
        },
        "id": "3lwZs8ALXNOH",
        "outputId": "d3ee903e-577b-437a-e830-54f208af8452"
      },
      "execution_count": null,
      "outputs": [
        {
          "output_type": "stream",
          "name": "stdout",
          "text": [
            "Enter a number3\n",
            "1 * 3 = 3\n",
            "2 * 3 = 6\n",
            "3 * 3 = 9\n",
            "4 * 3 = 12\n",
            "5 * 3 = 15\n",
            "6 * 3 = 18\n",
            "7 * 3 = 21\n",
            "8 * 3 = 24\n",
            "9 * 3 = 27\n",
            "10 * 3 = 30\n"
          ]
        }
      ]
    },
    {
      "cell_type": "markdown",
      "source": [
        "#functions"
      ],
      "metadata": {
        "id": "IhlI5olnhvfh"
      }
    },
    {
      "cell_type": "code",
      "source": [
        "a = \"100\"\n",
        "print(type(int(a)))\n"
      ],
      "metadata": {
        "colab": {
          "base_uri": "https://localhost:8080/"
        },
        "id": "pP72Rx95husQ",
        "outputId": "d84c9acf-8b61-4714-a2e6-779eac70b365"
      },
      "execution_count": null,
      "outputs": [
        {
          "output_type": "stream",
          "name": "stdout",
          "text": [
            "<class 'int'>\n"
          ]
        }
      ]
    },
    {
      "cell_type": "code",
      "source": [
        "a = 3.14\n",
        "print(type(int(a)))\n"
      ],
      "metadata": {
        "colab": {
          "base_uri": "https://localhost:8080/"
        },
        "id": "O80RX1y7ijrA",
        "outputId": "5a59f55f-7b8b-4664-8789-4cf5f077c337"
      },
      "execution_count": null,
      "outputs": [
        {
          "output_type": "stream",
          "name": "stdout",
          "text": [
            "<class 'int'>\n"
          ]
        }
      ]
    },
    {
      "cell_type": "code",
      "source": [
        "a = 25\n",
        "print(type(str(a)))\n"
      ],
      "metadata": {
        "colab": {
          "base_uri": "https://localhost:8080/"
        },
        "id": "dI2ha-hNioKl",
        "outputId": "f564f580-fe1e-4128-b7de-d593cd39d5d4"
      },
      "execution_count": null,
      "outputs": [
        {
          "output_type": "stream",
          "name": "stdout",
          "text": [
            "<class 'str'>\n"
          ]
        }
      ]
    },
    {
      "cell_type": "code",
      "source": [
        "a = [1,2,3]\n",
        "tuple(a)"
      ],
      "metadata": {
        "colab": {
          "base_uri": "https://localhost:8080/"
        },
        "id": "ZnJW5azsitaD",
        "outputId": "03b31ed7-af76-4975-e564-cfb3701ee13e"
      },
      "execution_count": null,
      "outputs": [
        {
          "output_type": "execute_result",
          "data": {
            "text/plain": [
              "(1, 2, 3)"
            ]
          },
          "metadata": {},
          "execution_count": 112
        }
      ]
    },
    {
      "cell_type": "code",
      "source": [
        "a = (1,2,3)\n",
        "list(a)"
      ],
      "metadata": {
        "colab": {
          "base_uri": "https://localhost:8080/"
        },
        "id": "429vlQooizNd",
        "outputId": "d7fccad2-90ed-4d73-f995-2e34d2b55691"
      },
      "execution_count": null,
      "outputs": [
        {
          "output_type": "execute_result",
          "data": {
            "text/plain": [
              "[1, 2, 3]"
            ]
          },
          "metadata": {},
          "execution_count": 113
        }
      ]
    },
    {
      "cell_type": "code",
      "source": [
        "abs(-5)"
      ],
      "metadata": {
        "colab": {
          "base_uri": "https://localhost:8080/"
        },
        "id": "XhWBW2O2ktYR",
        "outputId": "09bd3021-7756-43ac-9ed1-f64b46229122"
      },
      "execution_count": null,
      "outputs": [
        {
          "output_type": "execute_result",
          "data": {
            "text/plain": [
              "5"
            ]
          },
          "metadata": {},
          "execution_count": 117
        }
      ]
    },
    {
      "cell_type": "code",
      "source": [
        " pow(2,3)  #2*3"
      ],
      "metadata": {
        "colab": {
          "base_uri": "https://localhost:8080/"
        },
        "id": "WydfK98slBCT",
        "outputId": "467b301b-9503-4ba4-8f00-6b8c93ca3cd9"
      },
      "execution_count": null,
      "outputs": [
        {
          "output_type": "execute_result",
          "data": {
            "text/plain": [
              "8"
            ]
          },
          "metadata": {},
          "execution_count": 118
        }
      ]
    },
    {
      "cell_type": "code",
      "source": [
        "round(3.7)   #nearestvalue"
      ],
      "metadata": {
        "colab": {
          "base_uri": "https://localhost:8080/"
        },
        "id": "otf_8JMGlDk9",
        "outputId": "d97dfe9d-00ba-44e0-b70a-bbb06c2180d6"
      },
      "execution_count": null,
      "outputs": [
        {
          "output_type": "execute_result",
          "data": {
            "text/plain": [
              "4"
            ]
          },
          "metadata": {},
          "execution_count": 119
        }
      ]
    },
    {
      "cell_type": "code",
      "source": [
        "divmod(10,3)     #qouitent , remainder"
      ],
      "metadata": {
        "colab": {
          "base_uri": "https://localhost:8080/"
        },
        "id": "l5sNZs_jlHQZ",
        "outputId": "6761ccfa-d265-4c5b-d3e3-3eb67c84801c"
      },
      "execution_count": null,
      "outputs": [
        {
          "output_type": "execute_result",
          "data": {
            "text/plain": [
              "(3, 1)"
            ]
          },
          "metadata": {},
          "execution_count": 120
        }
      ]
    },
    {
      "cell_type": "code",
      "source": [
        "abs(-15)"
      ],
      "metadata": {
        "colab": {
          "base_uri": "https://localhost:8080/"
        },
        "id": "s6VoAMgKll78",
        "outputId": "480539b3-504c-455e-c2a8-17b82281c4b9"
      },
      "execution_count": null,
      "outputs": [
        {
          "output_type": "execute_result",
          "data": {
            "text/plain": [
              "15"
            ]
          },
          "metadata": {},
          "execution_count": 121
        }
      ]
    },
    {
      "cell_type": "code",
      "source": [],
      "metadata": {
        "id": "ytGtMWCsUN6I"
      },
      "execution_count": null,
      "outputs": []
    },
    {
      "cell_type": "code",
      "source": [
        "len([1,2,3])   #return length\n",
        "max[4,7,8]      #return max\n",
        "min[4,7,8]\n",
        "sum([1,2,3])\n",
        "sorted([1,2,3])"
      ],
      "metadata": {
        "id": "u7AtpDVgl7KM"
      },
      "execution_count": null,
      "outputs": []
    },
    {
      "cell_type": "code",
      "source": [
        "a = [5,10,15]\n",
        "print(len(a))"
      ],
      "metadata": {
        "colab": {
          "base_uri": "https://localhost:8080/"
        },
        "id": "2VAelkmamfl5",
        "outputId": "f2667a40-c230-444c-d5b7-670824eb3a30"
      },
      "execution_count": null,
      "outputs": [
        {
          "output_type": "stream",
          "name": "stdout",
          "text": [
            "3\n"
          ]
        }
      ]
    },
    {
      "cell_type": "code",
      "source": [
        "a = [12,7,19,3]\n",
        "print(max(a))"
      ],
      "metadata": {
        "colab": {
          "base_uri": "https://localhost:8080/"
        },
        "id": "JbSvwOuRmolx",
        "outputId": "f9c2bd1c-e58c-46e6-bd94-cfda04284b65"
      },
      "execution_count": null,
      "outputs": [
        {
          "output_type": "stream",
          "name": "stdout",
          "text": [
            "19\n"
          ]
        }
      ]
    },
    {
      "cell_type": "code",
      "source": [
        "a = [12,7,19,3]\n",
        "print(min(a))"
      ],
      "metadata": {
        "colab": {
          "base_uri": "https://localhost:8080/"
        },
        "id": "_QBcONuOmxhE",
        "outputId": "fcf5e19d-087e-4952-a74d-8e0e673e518a"
      },
      "execution_count": null,
      "outputs": [
        {
          "output_type": "stream",
          "name": "stdout",
          "text": [
            "3\n"
          ]
        }
      ]
    },
    {
      "cell_type": "code",
      "source": [
        "a = [8,2,5,1]\n",
        "print(sorted(a))"
      ],
      "metadata": {
        "colab": {
          "base_uri": "https://localhost:8080/"
        },
        "id": "CjFRtLBum6Bf",
        "outputId": "7c8f3aee-cbbd-44f2-bde0-9c006a2b74f6"
      },
      "execution_count": null,
      "outputs": [
        {
          "output_type": "stream",
          "name": "stdout",
          "text": [
            "[1, 2, 5, 8]\n"
          ]
        }
      ]
    },
    {
      "cell_type": "code",
      "source": [
        "isinstance(10,int)"
      ],
      "metadata": {
        "colab": {
          "base_uri": "https://localhost:8080/"
        },
        "id": "6qqwYNx4nZik",
        "outputId": "e515aacb-097f-4a74-b4be-89ab886c1c32"
      },
      "execution_count": null,
      "outputs": [
        {
          "output_type": "execute_result",
          "data": {
            "text/plain": [
              "True"
            ]
          },
          "metadata": {},
          "execution_count": 127
        }
      ]
    },
    {
      "cell_type": "code",
      "source": [
        "id(10)"
      ],
      "metadata": {
        "colab": {
          "base_uri": "https://localhost:8080/"
        },
        "id": "aQ84qfNsngCU",
        "outputId": "69888a59-7477-4d94-f59c-640d3bf89fe0"
      },
      "execution_count": null,
      "outputs": [
        {
          "output_type": "execute_result",
          "data": {
            "text/plain": [
              "10758024"
            ]
          },
          "metadata": {},
          "execution_count": 128
        }
      ]
    },
    {
      "cell_type": "code",
      "source": [
        "type(\"hello\")"
      ],
      "metadata": {
        "colab": {
          "base_uri": "https://localhost:8080/"
        },
        "id": "8gooT1rGnwiM",
        "outputId": "d462756b-43b9-4669-94bf-7a34c02b8467"
      },
      "execution_count": null,
      "outputs": [
        {
          "output_type": "execute_result",
          "data": {
            "text/plain": [
              "str"
            ]
          },
          "metadata": {},
          "execution_count": 129
        }
      ]
    },
    {
      "cell_type": "code",
      "source": [
        "x = 42\n",
        "print(id(x))"
      ],
      "metadata": {
        "colab": {
          "base_uri": "https://localhost:8080/"
        },
        "id": "q5760O4Qn1mk",
        "outputId": "0538db24-e9c7-4cb9-c0a4-cf87ff20f082"
      },
      "execution_count": null,
      "outputs": [
        {
          "output_type": "stream",
          "name": "stdout",
          "text": [
            "10759048\n"
          ]
        }
      ]
    },
    {
      "cell_type": "code",
      "source": [
        "type(7)"
      ],
      "metadata": {
        "colab": {
          "base_uri": "https://localhost:8080/"
        },
        "id": "Ipm182uRoAQ-",
        "outputId": "4371161f-3251-4134-979a-5fbe822066d5"
      },
      "execution_count": null,
      "outputs": [
        {
          "output_type": "execute_result",
          "data": {
            "text/plain": [
              "int"
            ]
          },
          "metadata": {},
          "execution_count": 131
        }
      ]
    },
    {
      "cell_type": "code",
      "source": [
        "type(3.14)"
      ],
      "metadata": {
        "colab": {
          "base_uri": "https://localhost:8080/"
        },
        "id": "UoV9YldzoE2Z",
        "outputId": "e1b0a0ec-7eb6-456f-8be7-89353e6b9d88"
      },
      "execution_count": null,
      "outputs": [
        {
          "output_type": "execute_result",
          "data": {
            "text/plain": [
              "float"
            ]
          },
          "metadata": {},
          "execution_count": 132
        }
      ]
    },
    {
      "cell_type": "markdown",
      "source": [
        "#files"
      ],
      "metadata": {
        "id": "mw6Xcy4-qjzz"
      }
    },
    {
      "cell_type": "code",
      "source": [
        "with open(\"sample.txt\",\"w\") as f:\n",
        "  f.write(\"hi welcome\")"
      ],
      "metadata": {
        "id": "_R9kC9YNpZBu"
      },
      "execution_count": null,
      "outputs": []
    },
    {
      "cell_type": "code",
      "source": [
        "with open(\"sample.txt\",\"r\") as f:\n",
        "  data = f.read()\n",
        "  print(data)"
      ],
      "metadata": {
        "id": "zRYluxxCqD1s"
      },
      "execution_count": null,
      "outputs": []
    },
    {
      "cell_type": "code",
      "source": [
        "help(str)\n",
        "dir(str)\n",
        "eval(\"10+5\")\n",
        "exec(\"print(2+3)\")"
      ],
      "metadata": {
        "id": "xrLkCKkbrGYD"
      },
      "execution_count": null,
      "outputs": []
    },
    {
      "cell_type": "markdown",
      "source": [
        "#def"
      ],
      "metadata": {
        "id": "Jy4IBvC-rUtF"
      }
    },
    {
      "cell_type": "code",
      "source": [
        "def add():\n",
        "  a = 10\n",
        "  b = 20\n",
        "  print(\"Sum:\",a + b)\n",
        "add()\n"
      ],
      "metadata": {
        "colab": {
          "base_uri": "https://localhost:8080/"
        },
        "id": "YnwM2eEirW9i",
        "outputId": "11caa9b6-af29-43ec-9417-782e64e64d63"
      },
      "execution_count": null,
      "outputs": [
        {
          "output_type": "stream",
          "name": "stdout",
          "text": [
            "Sum: 30\n"
          ]
        }
      ]
    },
    {
      "cell_type": "code",
      "source": [
        "def welcome_message():\n",
        "  print(\"welcome to python functions !\")\n",
        "welcome_message()\n"
      ],
      "metadata": {
        "colab": {
          "base_uri": "https://localhost:8080/"
        },
        "id": "StvnqD7Dr2uS",
        "outputId": "8fdef102-63c6-4057-8a17-c5453499d41b"
      },
      "execution_count": null,
      "outputs": [
        {
          "output_type": "stream",
          "name": "stdout",
          "text": [
            "welcome to python functions !\n"
          ]
        }
      ]
    },
    {
      "cell_type": "code",
      "source": [
        "def add(a,b):\n",
        "  print(\"sum:\", a + b)\n",
        "add(5,3)"
      ],
      "metadata": {
        "colab": {
          "base_uri": "https://localhost:8080/"
        },
        "id": "PjO8lZ1tsJVr",
        "outputId": "082c2ff6-8a6a-4487-a2b4-e697e9b85689"
      },
      "execution_count": null,
      "outputs": [
        {
          "output_type": "stream",
          "name": "stdout",
          "text": [
            "sum: 8\n"
          ]
        }
      ]
    },
    {
      "cell_type": "code",
      "source": [
        "def greet(name=\"Guest\"):\n",
        "  print(\"Hello\",name)\n",
        "greet()"
      ],
      "metadata": {
        "colab": {
          "base_uri": "https://localhost:8080/"
        },
        "id": "xtwfe3PytOEx",
        "outputId": "b3aaed4e-7a0d-4595-b89d-5dc0be2cf4ab"
      },
      "execution_count": null,
      "outputs": [
        {
          "output_type": "stream",
          "name": "stdout",
          "text": [
            "Hello Guest\n"
          ]
        }
      ]
    },
    {
      "cell_type": "code",
      "source": [
        "def greet(name=\"Guest\"):\n",
        "  print(\"Hello\",name)\n",
        "greet(\"Alice\")"
      ],
      "metadata": {
        "colab": {
          "base_uri": "https://localhost:8080/"
        },
        "id": "cCJUfSmOte49",
        "outputId": "7d5abda2-869e-464f-cf80-9c9d3c6b0db7"
      },
      "execution_count": null,
      "outputs": [
        {
          "output_type": "stream",
          "name": "stdout",
          "text": [
            "Hello Alice\n"
          ]
        }
      ]
    },
    {
      "cell_type": "code",
      "source": [
        "def mul(a=1,b=1):\n",
        "  print(a*b)             #defaullt values\n",
        "mul()\n"
      ],
      "metadata": {
        "colab": {
          "base_uri": "https://localhost:8080/"
        },
        "id": "D4lZ2nSbt48-",
        "outputId": "e1ec157b-ce55-4162-e453-4743e04773f3"
      },
      "execution_count": null,
      "outputs": [
        {
          "output_type": "stream",
          "name": "stdout",
          "text": [
            "1\n"
          ]
        }
      ]
    },
    {
      "cell_type": "code",
      "source": [
        "def add(a,b):\n",
        "  return a+b\n",
        "\n",
        "result = add(4,6)\n",
        "print(\"result\",result)"
      ],
      "metadata": {
        "colab": {
          "base_uri": "https://localhost:8080/"
        },
        "id": "2h5HANFNu081",
        "outputId": "9f73cb5b-af4c-4b16-d3a1-fe8c7ca09128"
      },
      "execution_count": null,
      "outputs": [
        {
          "output_type": "stream",
          "name": "stdout",
          "text": [
            "result 10\n"
          ]
        }
      ]
    },
    {
      "cell_type": "code",
      "source": [
        "def square(n):\n",
        "  return n*n\n",
        "res = square(5)\n",
        "print(\"square :\",res)"
      ],
      "metadata": {
        "colab": {
          "base_uri": "https://localhost:8080/"
        },
        "id": "aoqG9KYxvTUl",
        "outputId": "c3441905-4684-4ecc-c93d-16d3afd240c2"
      },
      "execution_count": null,
      "outputs": [
        {
          "output_type": "stream",
          "name": "stdout",
          "text": [
            "square : 25\n"
          ]
        }
      ]
    },
    {
      "cell_type": "markdown",
      "source": [
        "#keywords"
      ],
      "metadata": {
        "id": "aIE20H9rwlEi"
      }
    },
    {
      "cell_type": "code",
      "source": [
        "import keyword\n",
        "print(keyword.kwlist)\n",
        "print(len(keyword.kwlist))"
      ],
      "metadata": {
        "colab": {
          "base_uri": "https://localhost:8080/"
        },
        "id": "HWbFTC48wTzg",
        "outputId": "8b965198-f97e-465e-a4ee-4608a358f21a"
      },
      "execution_count": null,
      "outputs": [
        {
          "output_type": "stream",
          "name": "stdout",
          "text": [
            "['False', 'None', 'True', 'and', 'as', 'assert', 'async', 'await', 'break', 'class', 'continue', 'def', 'del', 'elif', 'else', 'except', 'finally', 'for', 'from', 'global', 'if', 'import', 'in', 'is', 'lambda', 'nonlocal', 'not', 'or', 'pass', 'raise', 'return', 'try', 'while', 'with', 'yield']\n",
            "35\n"
          ]
        }
      ]
    },
    {
      "cell_type": "markdown",
      "source": [
        "#Docstring"
      ],
      "metadata": {
        "id": "3G5Egz1fxeOQ"
      }
    },
    {
      "cell_type": "code",
      "source": [
        "def add(a,b):\n",
        "  \"\"\" docstring  \"\"\"\n",
        "  sum = a +b\n",
        "  return sum\n",
        "add(4,5)"
      ],
      "metadata": {
        "colab": {
          "base_uri": "https://localhost:8080/"
        },
        "id": "mYZdfKgexhW2",
        "outputId": "32c0ab15-3581-4096-e1c4-2c447035d06a"
      },
      "execution_count": null,
      "outputs": [
        {
          "output_type": "execute_result",
          "data": {
            "text/plain": [
              "9"
            ]
          },
          "metadata": {},
          "execution_count": 156
        }
      ]
    },
    {
      "cell_type": "code",
      "source": [
        "print(add.__doc__)"
      ],
      "metadata": {
        "colab": {
          "base_uri": "https://localhost:8080/"
        },
        "id": "fjU2QW8-x8JG",
        "outputId": "86af9a1d-c25c-4f7e-e39d-406b7a976f71"
      },
      "execution_count": null,
      "outputs": [
        {
          "output_type": "stream",
          "name": "stdout",
          "text": [
            " docstring  \n"
          ]
        }
      ]
    },
    {
      "cell_type": "code",
      "source": [
        "def sa(a,b):\n",
        "  return a+b, a-b, a*b, a/b\n",
        "tsum,tdiff,tmul,tdiv = sa(10,5)\n",
        "print(tsum,tdiff,tmul,tdiv)\n"
      ],
      "metadata": {
        "colab": {
          "base_uri": "https://localhost:8080/"
        },
        "id": "GWvArbu1yI9X",
        "outputId": "603e985a-e30e-4771-cb7e-ce641f8de4c8"
      },
      "execution_count": null,
      "outputs": [
        {
          "output_type": "stream",
          "name": "stdout",
          "text": [
            "15 5 50 2.0\n"
          ]
        }
      ]
    },
    {
      "cell_type": "code",
      "source": [
        "def print_info(*kwargs):\n",
        "  for item in kwargs:\n",
        "    print(item)\n",
        "print_info(\"Hi\",\"Hello\",\"How \")"
      ],
      "metadata": {
        "colab": {
          "base_uri": "https://localhost:8080/"
        },
        "id": "bjR9hNQIynLg",
        "outputId": "5cad138a-d2df-4e5e-d0e3-143d77ec3dd0"
      },
      "execution_count": null,
      "outputs": [
        {
          "output_type": "stream",
          "name": "stdout",
          "text": [
            "Hi\n",
            "Hello\n",
            "How \n"
          ]
        }
      ]
    },
    {
      "cell_type": "code",
      "source": [
        "print_info(\"Hi\")"
      ],
      "metadata": {
        "colab": {
          "base_uri": "https://localhost:8080/"
        },
        "id": "PBWXLBKozW6-",
        "outputId": "f26daaf5-97f9-420f-c6b5-41b76a1f010d"
      },
      "execution_count": null,
      "outputs": [
        {
          "output_type": "stream",
          "name": "stdout",
          "text": [
            "Hi\n"
          ]
        }
      ]
    },
    {
      "cell_type": "markdown",
      "source": [
        "#Importing os"
      ],
      "metadata": {
        "id": "6RnVr31L0dd_"
      }
    },
    {
      "cell_type": "code",
      "source": [
        "import os\n",
        "if os.path.exists(\"samle.txt\"):\n",
        "  print(\"File exist\")\n",
        "else:\n",
        "  print(\"File not exist\")"
      ],
      "metadata": {
        "colab": {
          "base_uri": "https://localhost:8080/"
        },
        "id": "LUtPtOHLzaxn",
        "outputId": "6a10d417-b879-4d4f-f672-c46448b73851"
      },
      "execution_count": null,
      "outputs": [
        {
          "output_type": "stream",
          "name": "stdout",
          "text": [
            "File not exist\n"
          ]
        }
      ]
    },
    {
      "cell_type": "code",
      "source": [
        "os.listdir()"
      ],
      "metadata": {
        "colab": {
          "base_uri": "https://localhost:8080/"
        },
        "id": "GGN5uz0f0ZSk",
        "outputId": "e54ea28f-1120-4966-ae16-c6367e85f159"
      },
      "execution_count": null,
      "outputs": [
        {
          "output_type": "execute_result",
          "data": {
            "text/plain": [
              "['.config', 'sample.txt', 'sample_data']"
            ]
          },
          "metadata": {},
          "execution_count": 164
        }
      ]
    },
    {
      "cell_type": "markdown",
      "source": [
        "##1.Write Code snippet to save the list of PDF files from your downloads floder as 'pdf_list.txt'  "
      ],
      "metadata": {
        "id": "d77fpoI705Iz"
      }
    },
    {
      "cell_type": "code",
      "source": [],
      "metadata": {
        "id": "WGbEBSp8KF2j"
      },
      "execution_count": null,
      "outputs": []
    },
    {
      "cell_type": "markdown",
      "source": [
        "#OOP CONCEPTS"
      ],
      "metadata": {
        "id": "MBBS9qSgOZOj"
      }
    },
    {
      "cell_type": "code",
      "source": [
        "class Dog:\n",
        "  def __init__(self,name,age):\n",
        "    self.x = name\n",
        "    self.y = age"
      ],
      "metadata": {
        "id": "y8OEsXTSPDRN"
      },
      "execution_count": null,
      "outputs": []
    },
    {
      "cell_type": "code",
      "source": [
        "my_pet = Dog(\"BOB\",5)\n",
        "print(my_pet.x)\n",
        "print(my_pet.y)"
      ],
      "metadata": {
        "colab": {
          "base_uri": "https://localhost:8080/"
        },
        "id": "hrKbTT0OPi8F",
        "outputId": "21bda709-0966-4d3b-9c8f-4601892c8e27"
      },
      "execution_count": null,
      "outputs": [
        {
          "output_type": "stream",
          "name": "stdout",
          "text": [
            "BOB\n",
            "5\n"
          ]
        }
      ]
    },
    {
      "cell_type": "code",
      "source": [
        "my_pet_1 = Dog(\"Don\",15)\n",
        "print(my_pet.x)\n",
        "print(my_pet.y)"
      ],
      "metadata": {
        "id": "yLHdoqz-P1CE",
        "colab": {
          "base_uri": "https://localhost:8080/"
        },
        "outputId": "d92888e8-b64f-4b9d-f873-642e5d18b6d7"
      },
      "execution_count": null,
      "outputs": [
        {
          "output_type": "stream",
          "name": "stdout",
          "text": [
            "BOB\n",
            "5\n"
          ]
        }
      ]
    },
    {
      "cell_type": "code",
      "source": [
        "class Dog:\n",
        "  def __init__(self,name,age,sound):\n",
        "    self.name = name\n",
        "    self.age = age\n",
        "    self.sound= sound\n",
        "\n",
        "  def say(self):\n",
        "    print(self.sound*2)\n"
      ],
      "metadata": {
        "id": "5gusWSBwQdzV"
      },
      "execution_count": null,
      "outputs": []
    },
    {
      "cell_type": "code",
      "source": [
        "pet = Dog(\"Don\",7,\"Wooof....! \")\n",
        "pet.say()"
      ],
      "metadata": {
        "colab": {
          "base_uri": "https://localhost:8080/"
        },
        "id": "EdwFMEvqRNjA",
        "outputId": "889a0f6f-6aa6-46d2-ffbc-2063adc9fb11"
      },
      "execution_count": null,
      "outputs": [
        {
          "output_type": "stream",
          "name": "stdout",
          "text": [
            "Wooof....! Wooof....! \n"
          ]
        }
      ]
    },
    {
      "cell_type": "markdown",
      "source": [
        "#Inheritance"
      ],
      "metadata": {
        "id": "ldzmyr-8SLuJ"
      }
    },
    {
      "cell_type": "code",
      "source": [
        "class Animal:\n",
        "  def __init__(self,name,age,sound):\n",
        "    self.name = name\n",
        "    self.age  = age\n",
        "    self.sound = sound\n",
        "  def make_sound(self):\n",
        "    print(self.sound)"
      ],
      "metadata": {
        "id": "oGevdNvySQfO"
      },
      "execution_count": null,
      "outputs": []
    },
    {
      "cell_type": "code",
      "source": [
        "class Dog(Animal):\n",
        "  def __init__(self,name,age):\n",
        "    super().__init__(name,age,\"woof\")\n",
        "  def action(self):\n",
        "    print(\"Move tails\")\n",
        "\n"
      ],
      "metadata": {
        "id": "HpqsIyMwTkGH"
      },
      "execution_count": null,
      "outputs": []
    },
    {
      "cell_type": "code",
      "source": [
        "pet = Dog(\"Don\",3)\n",
        "pet.make_sound()\n"
      ],
      "metadata": {
        "colab": {
          "base_uri": "https://localhost:8080/"
        },
        "id": "pdb022gzUESK",
        "outputId": "a3d6dd1a-c5b5-4dfd-e89c-8ba2dc71cdcd"
      },
      "execution_count": null,
      "outputs": [
        {
          "output_type": "stream",
          "name": "stdout",
          "text": [
            "woof\n"
          ]
        }
      ]
    },
    {
      "cell_type": "code",
      "source": [
        "pet.action()"
      ],
      "metadata": {
        "colab": {
          "base_uri": "https://localhost:8080/"
        },
        "id": "KP-sF5BQWMMF",
        "outputId": "9c0f1c74-689f-42cc-bdeb-ef13f821d8bf"
      },
      "execution_count": null,
      "outputs": [
        {
          "output_type": "stream",
          "name": "stdout",
          "text": [
            "Move tails\n"
          ]
        }
      ]
    },
    {
      "cell_type": "code",
      "source": [
        "def g():\n",
        "  pass        #not to write code\n",
        "\n",
        "g()\n"
      ],
      "metadata": {
        "id": "mLuhMWwgX_C1"
      },
      "execution_count": null,
      "outputs": []
    },
    {
      "cell_type": "markdown",
      "source": [
        "Q.Design a class type calculator which has two attributes and do arithematic operations(Add,sub,mul,div)"
      ],
      "metadata": {
        "id": "RnwP2ti5Yf7a"
      }
    },
    {
      "cell_type": "code",
      "source": [
        "class my_calc:\n",
        "  def __init__(self,a,b):\n",
        "    self.a = a\n",
        "    self.b = b\n",
        "\n",
        "  def ad(self):\n",
        "   return self.a + self.b\n",
        "\n",
        "  def sub(self):\n",
        "   return self.a - self.b\n",
        "\n",
        "  def mul(self):\n",
        "   return self.a * self.b\n",
        "\n",
        "\n",
        "  def div(self):\n",
        "   return self.a / self.b\n",
        "\n",
        "\n",
        "\n",
        "\n",
        "\n"
      ],
      "metadata": {
        "id": "kOqeGVrwYuzJ"
      },
      "execution_count": null,
      "outputs": []
    },
    {
      "cell_type": "code",
      "source": [
        "\n"
      ],
      "metadata": {
        "id": "D6HrENFqZiI6"
      },
      "execution_count": null,
      "outputs": []
    },
    {
      "cell_type": "code",
      "source": [
        "n = my_calc(8,4)\n",
        "n.div()\n",
        "\n",
        "\n"
      ],
      "metadata": {
        "colab": {
          "base_uri": "https://localhost:8080/"
        },
        "id": "Kq4H3z82aCm1",
        "outputId": "4fa950fc-19c4-4978-e3a7-19fa00358eb2"
      },
      "execution_count": null,
      "outputs": [
        {
          "output_type": "execute_result",
          "data": {
            "text/plain": [
              "2.0"
            ]
          },
          "metadata": {},
          "execution_count": 74
        }
      ]
    },
    {
      "cell_type": "code",
      "source": [
        "a = [1,3,5,7]\n",
        "b = len(a)\n",
        "c = sum(a)\n",
        "d = c / b\n",
        "print(d)"
      ],
      "metadata": {
        "id": "wf2xZ8M4ashu",
        "colab": {
          "base_uri": "https://localhost:8080/"
        },
        "outputId": "0947beb8-b550-4951-a184-06d7d53cc960"
      },
      "execution_count": null,
      "outputs": [
        {
          "output_type": "stream",
          "name": "stdout",
          "text": [
            "4.0\n"
          ]
        }
      ]
    },
    {
      "cell_type": "code",
      "source": [
        "\n",
        "def median(a):\n",
        "  b = sorted(a)\n",
        "  c = len(a)\n",
        "  if c % 2 == 0:\n",
        "    print((b[int(c/2)-1]+b[int(c/2)]) / 2 )\n",
        "  else:\n",
        "    print(b[int(c/2)])\n",
        "\n",
        "\n",
        "\n",
        "\n",
        "data = [1,3,4,2,5,10,7,9,6,1]\n",
        "median(a)\n"
      ],
      "metadata": {
        "id": "UTOeEUt0G_EJ",
        "colab": {
          "base_uri": "https://localhost:8080/"
        },
        "outputId": "43069bda-d80d-4231-9470-bc4a96cf12c1"
      },
      "execution_count": null,
      "outputs": [
        {
          "output_type": "stream",
          "name": "stdout",
          "text": [
            "4.5\n"
          ]
        }
      ]
    },
    {
      "cell_type": "code",
      "source": [
        "\n",
        "a = [10,20,30,40,50]\n",
        "c = len(a)\n",
        "p = 50                               #PERCENTILE\n",
        "d = int((p / 100) * (c+1))\n",
        "print((a[d-1]+a[d])/2)"
      ],
      "metadata": {
        "colab": {
          "base_uri": "https://localhost:8080/"
        },
        "id": "lTZc_NpzE_vJ",
        "outputId": "a34d2de0-ea64-471a-d223-6b4f41dbcc2c"
      },
      "execution_count": null,
      "outputs": [
        {
          "output_type": "stream",
          "name": "stdout",
          "text": [
            "35.0\n"
          ]
        }
      ]
    },
    {
      "cell_type": "code",
      "source": [
        "def median(a):\n",
        "  b = sorted(a)\n",
        "  c = len(a)\n",
        "  if c % 2 == 0:\n",
        "    print((b[int(c/2)-1]+b[int(c/2)]) / 2 )\n",
        "  else:\n",
        "    print(b[int(c/2)])\n",
        "\n",
        "def mean(a):\n",
        "  b = len(a)\n",
        "  c = sum(a)\n",
        "  d = c / b\n",
        "  print(d)\n",
        "\n",
        "\n",
        "\n",
        "data = [7,11,23,42,-3,-21,26,30]\n",
        "median(data)\n",
        "mean(data)\n",
        "\n",
        "\n"
      ],
      "metadata": {
        "colab": {
          "base_uri": "https://localhost:8080/"
        },
        "id": "fRvXSvD8TRPK",
        "outputId": "e67c4f58-f5a5-42bd-f56f-b9bd836800d3"
      },
      "execution_count": null,
      "outputs": [
        {
          "output_type": "stream",
          "name": "stdout",
          "text": [
            "17.0\n",
            "14.375\n"
          ]
        }
      ]
    },
    {
      "cell_type": "code",
      "source": [
        "def mean(num):\n",
        "\n",
        "  c = sum(num) / len(num)\n",
        "  return c\n",
        "\n",
        "\n",
        "d = input(\"Enter the numbers:\")\n",
        "n = list(map(int, d.split()))\n",
        "r = mean(n)\n",
        "print(\"Mean is :\",r)"
      ],
      "metadata": {
        "colab": {
          "base_uri": "https://localhost:8080/"
        },
        "id": "E-iHEZCAbv-N",
        "outputId": "0a5554a7-c70d-4b06-88d9-b4cce8d5569c"
      },
      "execution_count": 2,
      "outputs": [
        {
          "output_type": "stream",
          "name": "stdout",
          "text": [
            "Enter the numbers:1 2 3\n",
            "Mean is : 2.0\n"
          ]
        }
      ]
    },
    {
      "cell_type": "code",
      "source": [
        "a = [10,8,2,3,5,6]\n",
        "b = (sum(a) / len(a))\n",
        "for i in range(len(a)):\n",
        "  c =  (a[i] - b / len(a))\n",
        "  d = int(c)\n",
        "  print(sum(d))\n",
        "\n"
      ],
      "metadata": {
        "colab": {
          "base_uri": "https://localhost:8080/",
          "height": 219
        },
        "id": "kPmlQO4bhqXV",
        "outputId": "eb51851d-3233-4440-f0d1-62fe0884faa2"
      },
      "execution_count": null,
      "outputs": [
        {
          "output_type": "error",
          "ename": "TypeError",
          "evalue": "'int' object is not iterable",
          "traceback": [
            "\u001b[0;31m---------------------------------------------------------------------------\u001b[0m",
            "\u001b[0;31mTypeError\u001b[0m                                 Traceback (most recent call last)",
            "\u001b[0;32m/tmp/ipython-input-19-2932439774.py\u001b[0m in \u001b[0;36m<cell line: 0>\u001b[0;34m()\u001b[0m\n\u001b[1;32m      4\u001b[0m   \u001b[0mc\u001b[0m \u001b[0;34m=\u001b[0m  \u001b[0;34m(\u001b[0m\u001b[0ma\u001b[0m\u001b[0;34m[\u001b[0m\u001b[0mi\u001b[0m\u001b[0;34m]\u001b[0m \u001b[0;34m-\u001b[0m \u001b[0mb\u001b[0m \u001b[0;34m/\u001b[0m \u001b[0mlen\u001b[0m\u001b[0;34m(\u001b[0m\u001b[0ma\u001b[0m\u001b[0;34m)\u001b[0m\u001b[0;34m)\u001b[0m\u001b[0;34m\u001b[0m\u001b[0;34m\u001b[0m\u001b[0m\n\u001b[1;32m      5\u001b[0m   \u001b[0md\u001b[0m \u001b[0;34m=\u001b[0m \u001b[0mint\u001b[0m\u001b[0;34m(\u001b[0m\u001b[0mc\u001b[0m\u001b[0;34m)\u001b[0m\u001b[0;34m\u001b[0m\u001b[0;34m\u001b[0m\u001b[0m\n\u001b[0;32m----> 6\u001b[0;31m   \u001b[0mprint\u001b[0m\u001b[0;34m(\u001b[0m\u001b[0msum\u001b[0m\u001b[0;34m(\u001b[0m\u001b[0md\u001b[0m\u001b[0;34m)\u001b[0m\u001b[0;34m)\u001b[0m\u001b[0;34m\u001b[0m\u001b[0;34m\u001b[0m\u001b[0m\n\u001b[0m\u001b[1;32m      7\u001b[0m \u001b[0;34m\u001b[0m\u001b[0m\n\u001b[1;32m      8\u001b[0m \u001b[0;34m\u001b[0m\u001b[0m\n",
            "\u001b[0;31mTypeError\u001b[0m: 'int' object is not iterable"
          ]
        }
      ]
    },
    {
      "cell_type": "code",
      "source": [
        "def median(num):\n",
        "  a = sorted(num)\n",
        "  b = len(num)\n",
        "  if (b % 2) == 0:\n",
        "     d = ((a[int(b/2)-1] + a[int(b/2)]) / 2 )\n",
        "     return d\n",
        "  else:\n",
        "     e = (a[int(b/2)])\n",
        "     return e\n",
        "\n",
        "nums = input(\"Enter the numbers:\")\n",
        "n = list(map(int, d.split()))\n",
        "r = median(n)\n",
        "print(\"Median is :\",r)"
      ],
      "metadata": {
        "colab": {
          "base_uri": "https://localhost:8080/"
        },
        "id": "ibS4APR9e4eI",
        "outputId": "35741a64-31b6-439f-9e7e-aa2338f49ffc"
      },
      "execution_count": 13,
      "outputs": [
        {
          "output_type": "stream",
          "name": "stdout",
          "text": [
            "Enter the numbers:1 2 3 4 5\n",
            "Median is : 2\n"
          ]
        }
      ]
    },
    {
      "cell_type": "code",
      "source": [
        "def sd(a):\n",
        "    b = sum(a) / len(a)\n",
        "    r = 0\n",
        "    for i in range(len(a)):\n",
        "        s = (a[i] - b) ** 2\n",
        "        r += s\n",
        "\n",
        "    f = (r / len(a))\n",
        "    val = f ** 0.5\n",
        "    return val\n",
        "\n",
        "\n",
        "nums = input(\"Enter the numbers:\")\n",
        "n = list(map(int, nums.split()))\n",
        "res = sd(n)\n",
        "print(\"SD is :\",res)\n"
      ],
      "metadata": {
        "colab": {
          "base_uri": "https://localhost:8080/"
        },
        "id": "UFBD2iKR0Spz",
        "outputId": "618ebad0-6713-4c64-a885-9375ed16b834"
      },
      "execution_count": 42,
      "outputs": [
        {
          "output_type": "stream",
          "name": "stdout",
          "text": [
            "Enter the numbers:10 8 2 3 5 6\n",
            "SD is : 2.748737083745107\n"
          ]
        }
      ]
    },
    {
      "cell_type": "code",
      "source": [
        "\n",
        "def percentile(data, percent):\n",
        "  s = sorted(data)\n",
        "  n = len(s)\n",
        "  rank = (percent / 100) * (n - 1) + 1\n",
        "\n",
        "  if rank % 1 == 0:\n",
        "    return s[int(rank) - 1]\n",
        "  else:\n",
        "    lower_rank = int(rank)\n",
        "    upper_rank = lower_rank + 1\n",
        "    lower_value = s[lower_rank - 1]\n",
        "    upper_value = s[upper_rank - 1]\n",
        "    return lower_value + (rank - lower_rank) * (upper_value - lower_value)\n",
        "\n",
        "d = input(\"Enter the numbers :\")\n",
        "n = list(map(int, d.split()))\n",
        "percent_val = int(input(\"Enter the percentile:\"))\n",
        "result = percentile(n, percent_val)\n",
        "print(\" percentile is:\",result)\n",
        "\n",
        "\n",
        "def percentile(data,percent):\n",
        "    s = sorted\n"
      ],
      "metadata": {
        "id": "sl-EkG-50SPG"
      },
      "execution_count": null,
      "outputs": []
    }
  ]
}